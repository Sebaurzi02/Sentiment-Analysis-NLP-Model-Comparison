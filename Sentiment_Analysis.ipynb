{
 "cells": [
  {
   "cell_type": "markdown",
   "id": "2294a504-8f65-4af1-8f17-69301bb2ced9",
   "metadata": {},
   "source": [
    "# Sentiment Analysis and Reducing Costs in the Film Industry"
   ]
  },
  {
   "cell_type": "markdown",
   "id": "cc85376a-c83a-49fa-a0e9-2773cabf2631",
   "metadata": {},
   "source": [
    "## 1. Import libraries"
   ]
  },
  {
   "cell_type": "code",
   "execution_count": 29,
   "id": "c4ff0e29-166c-43f4-b61c-c9d2c0028b5b",
   "metadata": {},
   "outputs": [],
   "source": [
    "#Libraries\n",
    "import numpy as np\n",
    "import pandas as pd\n",
    "import seaborn as sns\n",
    "import matplotlib.pyplot as plt\n",
    "import nltk # Natural Language Processing\n",
    "from sklearn.feature_extraction.text import CountVectorizer # Bag of Words\n",
    "from sklearn.feature_extraction.text import TfidfVectorizer # TF-IDF\n",
    "from sklearn.preprocessing import LabelBinarizer\n",
    "from nltk.corpus import stopwords  # List of common words usually ignored in text analysis\n",
    "#from nltk.stem.porter import PorterStemmer  # For stemming using the Porter algorithm\n",
    "from wordcloud import WordCloud, STOPWORDS  # To create word cloud visualizations from text\n",
    "from nltk.stem import WordNetLemmatizer  # For lemmatization\n",
    "from nltk.tokenize import word_tokenize, sent_tokenize  # For word and sentence tokenization\n",
    "from bs4 import BeautifulSoup  # For HTML and XML parsing (web scraping)\n",
    "import spacy  # Fast and efficient NLP library\n",
    "import re, string, unicodedata  # For string manipulation and text normalization\n",
    "from nltk.tokenize.toktok import ToktokTokenizer  # More efficient tokenizer\n",
    "from nltk.stem import LancasterStemmer, WordNetLemmatizer  # Alternatives for stemming and lemmatization\n",
    "from sklearn.linear_model import LogisticRegression, SGDClassifier  # Logistic regression and SGD classifiers for classification\n",
    "from sklearn.naive_bayes import MultinomialNB  # Classification using Naive Bayes\n",
    "from sklearn.svm import SVC  # Support Vector Classifier\n",
    "from textblob import TextBlob  # For text and sentiment analysis\n",
    "from textblob import Word  # For word processing\n",
    "from sklearn.metrics import classification_report, confusion_matrix, accuracy_score  # For model evaluation\n",
    "import time  # For measuring code execution time\n",
    "\n",
    "import warnings\n",
    "warnings.filterwarnings('ignore')  # Ignore warnings"
   ]
  },
  {
   "cell_type": "code",
   "execution_count": null,
   "id": "0f066d03-43d4-4f0a-87cf-9c4f277d6680",
   "metadata": {},
   "outputs": [],
   "source": []
  },
  {
   "cell_type": "markdown",
   "id": "1112aabb-e303-495f-9de1-63235a8f671e",
   "metadata": {},
   "source": [
    "## 2. Dataset"
   ]
  },
  {
   "cell_type": "code",
   "execution_count": 30,
   "id": "a7485769-1ff1-4f8f-8a84-f7a8382a1979",
   "metadata": {},
   "outputs": [
    {
     "name": "stdout",
     "output_type": "stream",
     "text": [
      "(50000, 2)\n"
     ]
    },
    {
     "data": {
      "text/html": [
       "<div>\n",
       "<style scoped>\n",
       "    .dataframe tbody tr th:only-of-type {\n",
       "        vertical-align: middle;\n",
       "    }\n",
       "\n",
       "    .dataframe tbody tr th {\n",
       "        vertical-align: top;\n",
       "    }\n",
       "\n",
       "    .dataframe thead th {\n",
       "        text-align: right;\n",
       "    }\n",
       "</style>\n",
       "<table border=\"1\" class=\"dataframe\">\n",
       "  <thead>\n",
       "    <tr style=\"text-align: right;\">\n",
       "      <th></th>\n",
       "      <th>review</th>\n",
       "      <th>sentiment</th>\n",
       "    </tr>\n",
       "  </thead>\n",
       "  <tbody>\n",
       "    <tr>\n",
       "      <th>0</th>\n",
       "      <td>One of the other reviewers has mentioned that ...</td>\n",
       "      <td>positive</td>\n",
       "    </tr>\n",
       "    <tr>\n",
       "      <th>1</th>\n",
       "      <td>A wonderful little production. &lt;br /&gt;&lt;br /&gt;The...</td>\n",
       "      <td>positive</td>\n",
       "    </tr>\n",
       "    <tr>\n",
       "      <th>2</th>\n",
       "      <td>I thought this was a wonderful way to spend ti...</td>\n",
       "      <td>positive</td>\n",
       "    </tr>\n",
       "    <tr>\n",
       "      <th>3</th>\n",
       "      <td>Basically there's a family where a little boy ...</td>\n",
       "      <td>negative</td>\n",
       "    </tr>\n",
       "    <tr>\n",
       "      <th>4</th>\n",
       "      <td>Petter Mattei's \"Love in the Time of Money\" is...</td>\n",
       "      <td>positive</td>\n",
       "    </tr>\n",
       "    <tr>\n",
       "      <th>5</th>\n",
       "      <td>Probably my all-time favorite movie, a story o...</td>\n",
       "      <td>positive</td>\n",
       "    </tr>\n",
       "    <tr>\n",
       "      <th>6</th>\n",
       "      <td>I sure would like to see a resurrection of a u...</td>\n",
       "      <td>positive</td>\n",
       "    </tr>\n",
       "    <tr>\n",
       "      <th>7</th>\n",
       "      <td>This show was an amazing, fresh &amp; innovative i...</td>\n",
       "      <td>negative</td>\n",
       "    </tr>\n",
       "    <tr>\n",
       "      <th>8</th>\n",
       "      <td>Encouraged by the positive comments about this...</td>\n",
       "      <td>negative</td>\n",
       "    </tr>\n",
       "    <tr>\n",
       "      <th>9</th>\n",
       "      <td>If you like original gut wrenching laughter yo...</td>\n",
       "      <td>positive</td>\n",
       "    </tr>\n",
       "    <tr>\n",
       "      <th>10</th>\n",
       "      <td>Phil the Alien is one of those quirky films wh...</td>\n",
       "      <td>negative</td>\n",
       "    </tr>\n",
       "    <tr>\n",
       "      <th>11</th>\n",
       "      <td>I saw this movie when I was about 12 when it c...</td>\n",
       "      <td>negative</td>\n",
       "    </tr>\n",
       "    <tr>\n",
       "      <th>12</th>\n",
       "      <td>So im not a big fan of Boll's work but then ag...</td>\n",
       "      <td>negative</td>\n",
       "    </tr>\n",
       "    <tr>\n",
       "      <th>13</th>\n",
       "      <td>The cast played Shakespeare.&lt;br /&gt;&lt;br /&gt;Shakes...</td>\n",
       "      <td>negative</td>\n",
       "    </tr>\n",
       "    <tr>\n",
       "      <th>14</th>\n",
       "      <td>This a fantastic movie of three prisoners who ...</td>\n",
       "      <td>positive</td>\n",
       "    </tr>\n",
       "    <tr>\n",
       "      <th>15</th>\n",
       "      <td>Kind of drawn in by the erotic scenes, only to...</td>\n",
       "      <td>negative</td>\n",
       "    </tr>\n",
       "  </tbody>\n",
       "</table>\n",
       "</div>"
      ],
      "text/plain": [
       "                                               review sentiment\n",
       "0   One of the other reviewers has mentioned that ...  positive\n",
       "1   A wonderful little production. <br /><br />The...  positive\n",
       "2   I thought this was a wonderful way to spend ti...  positive\n",
       "3   Basically there's a family where a little boy ...  negative\n",
       "4   Petter Mattei's \"Love in the Time of Money\" is...  positive\n",
       "5   Probably my all-time favorite movie, a story o...  positive\n",
       "6   I sure would like to see a resurrection of a u...  positive\n",
       "7   This show was an amazing, fresh & innovative i...  negative\n",
       "8   Encouraged by the positive comments about this...  negative\n",
       "9   If you like original gut wrenching laughter yo...  positive\n",
       "10  Phil the Alien is one of those quirky films wh...  negative\n",
       "11  I saw this movie when I was about 12 when it c...  negative\n",
       "12  So im not a big fan of Boll's work but then ag...  negative\n",
       "13  The cast played Shakespeare.<br /><br />Shakes...  negative\n",
       "14  This a fantastic movie of three prisoners who ...  positive\n",
       "15  Kind of drawn in by the erotic scenes, only to...  negative"
      ]
     },
     "execution_count": 30,
     "metadata": {},
     "output_type": "execute_result"
    }
   ],
   "source": [
    "imdb_dataset = pd.read_csv('C:/Users/Nosse/IMDBDataset.csv') #load data\n",
    "print(imdb_dataset.shape)\n",
    "imdb_dataset.head(16)"
   ]
  },
  {
   "cell_type": "markdown",
   "id": "925f19c2-12e9-4b0a-b6d0-77dca4741265",
   "metadata": {},
   "source": [
    "### 2.1 Dataset info"
   ]
  },
  {
   "cell_type": "code",
   "execution_count": 31,
   "id": "f6b22be8-a596-4627-93ab-1a8579ab9f79",
   "metadata": {
    "scrolled": true
   },
   "outputs": [
    {
     "data": {
      "text/html": [
       "<div>\n",
       "<style scoped>\n",
       "    .dataframe tbody tr th:only-of-type {\n",
       "        vertical-align: middle;\n",
       "    }\n",
       "\n",
       "    .dataframe tbody tr th {\n",
       "        vertical-align: top;\n",
       "    }\n",
       "\n",
       "    .dataframe thead th {\n",
       "        text-align: right;\n",
       "    }\n",
       "</style>\n",
       "<table border=\"1\" class=\"dataframe\">\n",
       "  <thead>\n",
       "    <tr style=\"text-align: right;\">\n",
       "      <th></th>\n",
       "      <th>review</th>\n",
       "      <th>sentiment</th>\n",
       "    </tr>\n",
       "  </thead>\n",
       "  <tbody>\n",
       "    <tr>\n",
       "      <th>count</th>\n",
       "      <td>50000</td>\n",
       "      <td>50000</td>\n",
       "    </tr>\n",
       "    <tr>\n",
       "      <th>unique</th>\n",
       "      <td>49582</td>\n",
       "      <td>2</td>\n",
       "    </tr>\n",
       "    <tr>\n",
       "      <th>top</th>\n",
       "      <td>Loved today's show!!! It was a variety and not...</td>\n",
       "      <td>positive</td>\n",
       "    </tr>\n",
       "    <tr>\n",
       "      <th>freq</th>\n",
       "      <td>5</td>\n",
       "      <td>25000</td>\n",
       "    </tr>\n",
       "  </tbody>\n",
       "</table>\n",
       "</div>"
      ],
      "text/plain": [
       "                                                   review sentiment\n",
       "count                                               50000     50000\n",
       "unique                                              49582         2\n",
       "top     Loved today's show!!! It was a variety and not...  positive\n",
       "freq                                                    5     25000"
      ]
     },
     "execution_count": 31,
     "metadata": {},
     "output_type": "execute_result"
    }
   ],
   "source": [
    "imdb_dataset.describe() #dataset summary"
   ]
  },
  {
   "cell_type": "code",
   "execution_count": 32,
   "id": "cdfcaf3a-b545-4261-a206-434be43bb2cb",
   "metadata": {},
   "outputs": [
    {
     "name": "stdout",
     "output_type": "stream",
     "text": [
      "<class 'pandas.core.frame.DataFrame'>\n",
      "RangeIndex: 50000 entries, 0 to 49999\n",
      "Data columns (total 2 columns):\n",
      " #   Column     Non-Null Count  Dtype \n",
      "---  ------     --------------  ----- \n",
      " 0   review     50000 non-null  object\n",
      " 1   sentiment  50000 non-null  object\n",
      "dtypes: object(2)\n",
      "memory usage: 781.4+ KB\n"
     ]
    }
   ],
   "source": [
    "imdb_dataset.info()"
   ]
  },
  {
   "cell_type": "markdown",
   "id": "c2e6a563-5263-496a-9b8a-0eaca6f06765",
   "metadata": {},
   "source": [
    "### 2.2 Sentiment count-info"
   ]
  },
  {
   "cell_type": "code",
   "execution_count": 33,
   "id": "c774d889-374b-401e-90eb-9d4368bac4a4",
   "metadata": {},
   "outputs": [
    {
     "data": {
      "text/plain": [
       "sentiment\n",
       "positive    25000\n",
       "negative    25000\n",
       "Name: count, dtype: int64"
      ]
     },
     "execution_count": 33,
     "metadata": {},
     "output_type": "execute_result"
    }
   ],
   "source": [
    "imdb_dataset['sentiment'].value_counts()"
   ]
  },
  {
   "cell_type": "code",
   "execution_count": null,
   "id": "e275121e-6d78-4b7a-81e6-b6f6434e6e16",
   "metadata": {},
   "outputs": [],
   "source": []
  },
  {
   "cell_type": "markdown",
   "id": "7476f20f-31e9-4f5e-9243-bfc10b77e913",
   "metadata": {},
   "source": [
    "## 3. Pre-Processing : Cleaning-Text"
   ]
  },
  {
   "cell_type": "markdown",
   "id": "0539ebaf-c542-4471-a184-15022522000e",
   "metadata": {},
   "source": [
    "### 3.1 Remove HTML tags & Noise from the text"
   ]
  },
  {
   "cell_type": "code",
   "execution_count": 34,
   "id": "64d92970-027a-4b9d-9762-e8d0ef947922",
   "metadata": {},
   "outputs": [],
   "source": [
    "#remove html from text\n",
    "def remove_html(text):\n",
    "    \n",
    "    if not isinstance(text, str):\n",
    "        text = str(text)\n",
    "        \n",
    "    ss = BeautifulSoup(text, \"html.parser\")\n",
    "    return ss.get_text()\n",
    "    \n",
    "#remove text between square brackets\n",
    "def remove_btw_square_bb(text):\n",
    "    return re.sub(r'\\[[^]]*\\]','',text)\n",
    "\n",
    "#call all the function to clean text\n",
    "def remove_noise_txt(text):\n",
    "    text = remove_html(text)\n",
    "    text = remove_btw_square_bb(text)\n",
    "    return text\n",
    "\n",
    "#apply the function\n",
    "imdb_dataset['review']= imdb_dataset['review'].apply(remove_noise_txt)\n"
   ]
  },
  {
   "cell_type": "markdown",
   "id": "c7172243-dfa5-4fcc-8e04-165f6f496f4a",
   "metadata": {},
   "source": [
    "#### Explanation:\n",
    "\n",
    "1. **Removing HTML from text**: the function *remove_html(text)* uses BeautifulSoup to parse HTML content from the given text and extract only text without the tags. Useful fro cleaning reviews that may contain HTML tags.\n",
    "   \n",
    "2. **Removing text bewtween square brackets**: the function *remove_btw_square_bb(text)* utilizes a regex (regular expression), to find and remove (replace) any text that appears between square brackets, this helps to eliminate irrelevant information.\n",
    "   \n",
    "3. **Removing Noise from text**: the function  *remove_noise_txt(text)* combines the two previous functions, first remove HTML tags and then eliminates text that is enclosed in square brackets."
   ]
  },
  {
   "cell_type": "markdown",
   "id": "c599462e-9d51-4193-9dd3-172e0158ccb1",
   "metadata": {},
   "source": [
    "### 3.2 Removing special CHR"
   ]
  },
  {
   "cell_type": "code",
   "execution_count": 35,
   "id": "6c1a0538-619c-4cbd-a806-e953ef394d78",
   "metadata": {},
   "outputs": [],
   "source": [
    "#Function to remove special chr with regex\n",
    "def remove_sp_CHR(text, remove_digits=True):\n",
    "    pattern= r'[^a-zA-z0-9\\s]'\n",
    "    text = re.sub(pattern,'',text)\n",
    "    return text\n",
    "\n",
    "#Function call\n",
    "imdb_dataset['review']= imdb_dataset['review'].apply(remove_sp_CHR)"
   ]
  },
  {
   "cell_type": "markdown",
   "id": "bb7f6109-2090-4614-a95f-4ab10c32ca52",
   "metadata": {},
   "source": [
    "#### Explanation:"
   ]
  },
  {
   "cell_type": "markdown",
   "id": "cd44607e-1afb-4f9a-984f-72da54ddb957",
   "metadata": {},
   "source": [
    "### 3.3 Result of Text Cleaned:"
   ]
  },
  {
   "cell_type": "code",
   "execution_count": 37,
   "id": "ee56e1d9-284b-4ea2-bbaf-7336aa34fb5c",
   "metadata": {},
   "outputs": [
    {
     "data": {
      "text/html": [
       "<div>\n",
       "<style scoped>\n",
       "    .dataframe tbody tr th:only-of-type {\n",
       "        vertical-align: middle;\n",
       "    }\n",
       "\n",
       "    .dataframe tbody tr th {\n",
       "        vertical-align: top;\n",
       "    }\n",
       "\n",
       "    .dataframe thead th {\n",
       "        text-align: right;\n",
       "    }\n",
       "</style>\n",
       "<table border=\"1\" class=\"dataframe\">\n",
       "  <thead>\n",
       "    <tr style=\"text-align: right;\">\n",
       "      <th></th>\n",
       "      <th>review</th>\n",
       "      <th>sentiment</th>\n",
       "    </tr>\n",
       "  </thead>\n",
       "  <tbody>\n",
       "    <tr>\n",
       "      <th>0</th>\n",
       "      <td>One of the other reviewers has mentioned that ...</td>\n",
       "      <td>positive</td>\n",
       "    </tr>\n",
       "    <tr>\n",
       "      <th>1</th>\n",
       "      <td>A wonderful little production The filming tech...</td>\n",
       "      <td>positive</td>\n",
       "    </tr>\n",
       "    <tr>\n",
       "      <th>2</th>\n",
       "      <td>I thought this was a wonderful way to spend ti...</td>\n",
       "      <td>positive</td>\n",
       "    </tr>\n",
       "    <tr>\n",
       "      <th>3</th>\n",
       "      <td>Basically theres a family where a little boy J...</td>\n",
       "      <td>negative</td>\n",
       "    </tr>\n",
       "    <tr>\n",
       "      <th>4</th>\n",
       "      <td>Petter Matteis Love in the Time of Money is a ...</td>\n",
       "      <td>positive</td>\n",
       "    </tr>\n",
       "    <tr>\n",
       "      <th>5</th>\n",
       "      <td>Probably my alltime favorite movie a story of ...</td>\n",
       "      <td>positive</td>\n",
       "    </tr>\n",
       "    <tr>\n",
       "      <th>6</th>\n",
       "      <td>I sure would like to see a resurrection of a u...</td>\n",
       "      <td>positive</td>\n",
       "    </tr>\n",
       "    <tr>\n",
       "      <th>7</th>\n",
       "      <td>This show was an amazing fresh  innovative ide...</td>\n",
       "      <td>negative</td>\n",
       "    </tr>\n",
       "    <tr>\n",
       "      <th>8</th>\n",
       "      <td>Encouraged by the positive comments about this...</td>\n",
       "      <td>negative</td>\n",
       "    </tr>\n",
       "    <tr>\n",
       "      <th>9</th>\n",
       "      <td>If you like original gut wrenching laughter yo...</td>\n",
       "      <td>positive</td>\n",
       "    </tr>\n",
       "    <tr>\n",
       "      <th>10</th>\n",
       "      <td>Phil the Alien is one of those quirky films wh...</td>\n",
       "      <td>negative</td>\n",
       "    </tr>\n",
       "    <tr>\n",
       "      <th>11</th>\n",
       "      <td>I saw this movie when I was about 12 when it c...</td>\n",
       "      <td>negative</td>\n",
       "    </tr>\n",
       "    <tr>\n",
       "      <th>12</th>\n",
       "      <td>So im not a big fan of Bolls work but then aga...</td>\n",
       "      <td>negative</td>\n",
       "    </tr>\n",
       "    <tr>\n",
       "      <th>13</th>\n",
       "      <td>The cast played ShakespeareShakespeare lostI a...</td>\n",
       "      <td>negative</td>\n",
       "    </tr>\n",
       "    <tr>\n",
       "      <th>14</th>\n",
       "      <td>This a fantastic movie of three prisoners who ...</td>\n",
       "      <td>positive</td>\n",
       "    </tr>\n",
       "    <tr>\n",
       "      <th>15</th>\n",
       "      <td>Kind of drawn in by the erotic scenes only to ...</td>\n",
       "      <td>negative</td>\n",
       "    </tr>\n",
       "  </tbody>\n",
       "</table>\n",
       "</div>"
      ],
      "text/plain": [
       "                                               review sentiment\n",
       "0   One of the other reviewers has mentioned that ...  positive\n",
       "1   A wonderful little production The filming tech...  positive\n",
       "2   I thought this was a wonderful way to spend ti...  positive\n",
       "3   Basically theres a family where a little boy J...  negative\n",
       "4   Petter Matteis Love in the Time of Money is a ...  positive\n",
       "5   Probably my alltime favorite movie a story of ...  positive\n",
       "6   I sure would like to see a resurrection of a u...  positive\n",
       "7   This show was an amazing fresh  innovative ide...  negative\n",
       "8   Encouraged by the positive comments about this...  negative\n",
       "9   If you like original gut wrenching laughter yo...  positive\n",
       "10  Phil the Alien is one of those quirky films wh...  negative\n",
       "11  I saw this movie when I was about 12 when it c...  negative\n",
       "12  So im not a big fan of Bolls work but then aga...  negative\n",
       "13  The cast played ShakespeareShakespeare lostI a...  negative\n",
       "14  This a fantastic movie of three prisoners who ...  positive\n",
       "15  Kind of drawn in by the erotic scenes only to ...  negative"
      ]
     },
     "execution_count": 37,
     "metadata": {},
     "output_type": "execute_result"
    }
   ],
   "source": [
    "imdb_dataset.head(16)"
   ]
  },
  {
   "cell_type": "markdown",
   "id": "a83523ab-2260-48a0-a569-beacf137dc95",
   "metadata": {},
   "source": [
    "## 4. Exploratory Data Analysis and General Pre-Processing"
   ]
  },
  {
   "cell_type": "markdown",
   "id": "87332a3f-ac5d-4479-ac13-acbd47cdfa5c",
   "metadata": {},
   "source": [
    "### 4.1 Null or Duplicate values Detection (columns - rows)"
   ]
  },
  {
   "cell_type": "code",
   "execution_count": 38,
   "id": "bee49e1a-fe60-4bb8-804f-23cb1f8411be",
   "metadata": {},
   "outputs": [
    {
     "name": "stdout",
     "output_type": "stream",
     "text": [
      "Null values - each column: \n",
      " review       0\n",
      "sentiment    0\n",
      "dtype: int64\n",
      "\n",
      " Duplicates -  rows: \n",
      " 419\n"
     ]
    }
   ],
   "source": [
    "null_var_column = imdb_dataset.isnull().sum() #null values in dataset\n",
    "print(\"Null values - each column: \\n\",null_var_column)\n",
    "\n",
    "duplicate_rows = imdb_dataset.duplicated().sum() #duplicate rows in dataset\n",
    "print(\"\\n Duplicates -  rows: \\n\",duplicate_rows)"
   ]
  },
  {
   "cell_type": "markdown",
   "id": "364367fe-a281-4444-ae9d-22db45ec8fb8",
   "metadata": {},
   "source": [
    "#### Explanation"
   ]
  },
  {
   "cell_type": "markdown",
   "id": "6bf0f46a-0eee-444e-8439-30605d575976",
   "metadata": {},
   "source": [
    "### 4.2 Working Features"
   ]
  },
  {
   "cell_type": "markdown",
   "id": "43ee50fd-ff2a-4b03-9989-037a40ff2558",
   "metadata": {},
   "source": [
    "#### 4.2.1 Review Length"
   ]
  },
  {
   "cell_type": "code",
   "execution_count": 39,
   "id": "4f704352-a3c3-41fa-8dba-96b8dff79099",
   "metadata": {},
   "outputs": [
    {
     "data": {
      "text/html": [
       "<div>\n",
       "<style scoped>\n",
       "    .dataframe tbody tr th:only-of-type {\n",
       "        vertical-align: middle;\n",
       "    }\n",
       "\n",
       "    .dataframe tbody tr th {\n",
       "        vertical-align: top;\n",
       "    }\n",
       "\n",
       "    .dataframe thead th {\n",
       "        text-align: right;\n",
       "    }\n",
       "</style>\n",
       "<table border=\"1\" class=\"dataframe\">\n",
       "  <thead>\n",
       "    <tr style=\"text-align: right;\">\n",
       "      <th></th>\n",
       "      <th>review</th>\n",
       "      <th>sentiment</th>\n",
       "      <th>review_len</th>\n",
       "    </tr>\n",
       "  </thead>\n",
       "  <tbody>\n",
       "    <tr>\n",
       "      <th>0</th>\n",
       "      <td>One of the other reviewers has mentioned that ...</td>\n",
       "      <td>positive</td>\n",
       "      <td>301</td>\n",
       "    </tr>\n",
       "    <tr>\n",
       "      <th>1</th>\n",
       "      <td>A wonderful little production The filming tech...</td>\n",
       "      <td>positive</td>\n",
       "      <td>156</td>\n",
       "    </tr>\n",
       "    <tr>\n",
       "      <th>2</th>\n",
       "      <td>I thought this was a wonderful way to spend ti...</td>\n",
       "      <td>positive</td>\n",
       "      <td>162</td>\n",
       "    </tr>\n",
       "    <tr>\n",
       "      <th>3</th>\n",
       "      <td>Basically theres a family where a little boy J...</td>\n",
       "      <td>negative</td>\n",
       "      <td>129</td>\n",
       "    </tr>\n",
       "    <tr>\n",
       "      <th>4</th>\n",
       "      <td>Petter Matteis Love in the Time of Money is a ...</td>\n",
       "      <td>positive</td>\n",
       "      <td>222</td>\n",
       "    </tr>\n",
       "    <tr>\n",
       "      <th>5</th>\n",
       "      <td>Probably my alltime favorite movie a story of ...</td>\n",
       "      <td>positive</td>\n",
       "      <td>119</td>\n",
       "    </tr>\n",
       "    <tr>\n",
       "      <th>6</th>\n",
       "      <td>I sure would like to see a resurrection of a u...</td>\n",
       "      <td>positive</td>\n",
       "      <td>150</td>\n",
       "    </tr>\n",
       "    <tr>\n",
       "      <th>7</th>\n",
       "      <td>This show was an amazing fresh  innovative ide...</td>\n",
       "      <td>negative</td>\n",
       "      <td>170</td>\n",
       "    </tr>\n",
       "    <tr>\n",
       "      <th>8</th>\n",
       "      <td>Encouraged by the positive comments about this...</td>\n",
       "      <td>negative</td>\n",
       "      <td>124</td>\n",
       "    </tr>\n",
       "    <tr>\n",
       "      <th>9</th>\n",
       "      <td>If you like original gut wrenching laughter yo...</td>\n",
       "      <td>positive</td>\n",
       "      <td>31</td>\n",
       "    </tr>\n",
       "  </tbody>\n",
       "</table>\n",
       "</div>"
      ],
      "text/plain": [
       "                                              review sentiment  review_len\n",
       "0  One of the other reviewers has mentioned that ...  positive         301\n",
       "1  A wonderful little production The filming tech...  positive         156\n",
       "2  I thought this was a wonderful way to spend ti...  positive         162\n",
       "3  Basically theres a family where a little boy J...  negative         129\n",
       "4  Petter Matteis Love in the Time of Money is a ...  positive         222\n",
       "5  Probably my alltime favorite movie a story of ...  positive         119\n",
       "6  I sure would like to see a resurrection of a u...  positive         150\n",
       "7  This show was an amazing fresh  innovative ide...  negative         170\n",
       "8  Encouraged by the positive comments about this...  negative         124\n",
       "9  If you like original gut wrenching laughter yo...  positive          31"
      ]
     },
     "execution_count": 39,
     "metadata": {},
     "output_type": "execute_result"
    }
   ],
   "source": [
    "imdb_dataset['review_len'] = imdb_dataset['review'].apply(lambda x: len(x.split())) #Creates a new column with the length (in number of words) of each review.\n",
    "\n",
    "imdb_dataset.head(10)"
   ]
  },
  {
   "cell_type": "markdown",
   "id": "bf45e860-fc80-468b-b417-182d1caf3a2e",
   "metadata": {},
   "source": [
    "#### 4.2.2 Unique Review Length"
   ]
  },
  {
   "cell_type": "code",
   "execution_count": 40,
   "id": "413b2b87-ba91-4160-ab9b-da72dde08d56",
   "metadata": {},
   "outputs": [
    {
     "name": "stdout",
     "output_type": "stream",
     "text": [
      "Unique Review Lengths:\n",
      "[ 301  156  162 ... 1062  874 1136]\n"
     ]
    }
   ],
   "source": [
    "unique_len = imdb_dataset['review_len'].unique() #Unique column of rev_len\n",
    "print(\"Unique Review Lengths:\")\n",
    "print(unique_len)"
   ]
  },
  {
   "cell_type": "code",
   "execution_count": null,
   "id": "6640da14-b9d1-4c4b-bcb7-c2ccf6514f6b",
   "metadata": {},
   "outputs": [],
   "source": []
  }
 ],
 "metadata": {
  "kernelspec": {
   "display_name": "Python 3 (ipykernel)",
   "language": "python",
   "name": "python3"
  },
  "language_info": {
   "codemirror_mode": {
    "name": "ipython",
    "version": 3
   },
   "file_extension": ".py",
   "mimetype": "text/x-python",
   "name": "python",
   "nbconvert_exporter": "python",
   "pygments_lexer": "ipython3",
   "version": "3.12.9"
  }
 },
 "nbformat": 4,
 "nbformat_minor": 5
}
