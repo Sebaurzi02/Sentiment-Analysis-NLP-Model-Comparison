{
 "cells": [
  {
   "cell_type": "markdown",
   "id": "2294a504-8f65-4af1-8f17-69301bb2ced9",
   "metadata": {},
   "source": [
    "# Sentiment Analysis and Reducing Costs in the Film Industry"
   ]
  },
  {
   "cell_type": "markdown",
   "id": "cc85376a-c83a-49fa-a0e9-2773cabf2631",
   "metadata": {},
   "source": [
    "## 1. Import libraries"
   ]
  },
  {
   "cell_type": "code",
   "execution_count": 1,
   "id": "c4ff0e29-166c-43f4-b61c-c9d2c0028b5b",
   "metadata": {},
   "outputs": [],
   "source": [
    "#Libraries\n",
    "import numpy as np\n",
    "import pandas as pd\n",
    "import seaborn as sns\n",
    "import matplotlib.pyplot as plt\n",
    "import nltk # Natural Language Processing\n",
    "from sklearn.feature_extraction.text import CountVectorizer # Bag of Words\n",
    "from sklearn.feature_extraction.text import TfidfVectorizer # TF-IDF\n",
    "from sklearn.preprocessing import LabelBinarizer\n",
    "from nltk.corpus import stopwords  # List of common words usually ignored in text analysis\n",
    "#from nltk.stem.porter import PorterStemmer  # For stemming using the Porter algorithm\n",
    "from wordcloud import WordCloud, STOPWORDS  # To create word cloud visualizations from text\n",
    "from nltk.stem import WordNetLemmatizer  # For lemmatization\n",
    "from nltk.tokenize import word_tokenize, sent_tokenize  # For word and sentence tokenization\n",
    "from bs4 import BeautifulSoup  # For HTML and XML parsing (web scraping)\n",
    "import spacy  # Fast and efficient NLP library\n",
    "import re, string, unicodedata  # For string manipulation and text normalization\n",
    "from nltk.tokenize.toktok import ToktokTokenizer  # More efficient tokenizer\n",
    "from nltk.stem import LancasterStemmer, WordNetLemmatizer  # Alternatives for stemming and lemmatization\n",
    "from sklearn.linear_model import LogisticRegression, SGDClassifier  # Logistic regression and SGD classifiers for classification\n",
    "from sklearn.naive_bayes import MultinomialNB  # Classification using Naive Bayes\n",
    "from sklearn.svm import SVC  # Support Vector Classifier\n",
    "from textblob import TextBlob  # For text and sentiment analysis\n",
    "from textblob import Word  # For word processing\n",
    "from sklearn.metrics import classification_report, confusion_matrix, accuracy_score  # For model evaluation\n",
    "import time  # For measuring code execution time\n",
    "\n",
    "import warnings\n",
    "warnings.filterwarnings('ignore')  # Ignore warnings"
   ]
  },
  {
   "cell_type": "code",
   "execution_count": null,
   "id": "0f066d03-43d4-4f0a-87cf-9c4f277d6680",
   "metadata": {},
   "outputs": [],
   "source": []
  },
  {
   "cell_type": "markdown",
   "id": "1112aabb-e303-495f-9de1-63235a8f671e",
   "metadata": {},
   "source": [
    "## 2. Dataset"
   ]
  },
  {
   "cell_type": "code",
   "execution_count": 2,
   "id": "a7485769-1ff1-4f8f-8a84-f7a8382a1979",
   "metadata": {},
   "outputs": [
    {
     "name": "stdout",
     "output_type": "stream",
     "text": [
      "(50000, 2)\n"
     ]
    },
    {
     "data": {
      "text/html": [
       "<div>\n",
       "<style scoped>\n",
       "    .dataframe tbody tr th:only-of-type {\n",
       "        vertical-align: middle;\n",
       "    }\n",
       "\n",
       "    .dataframe tbody tr th {\n",
       "        vertical-align: top;\n",
       "    }\n",
       "\n",
       "    .dataframe thead th {\n",
       "        text-align: right;\n",
       "    }\n",
       "</style>\n",
       "<table border=\"1\" class=\"dataframe\">\n",
       "  <thead>\n",
       "    <tr style=\"text-align: right;\">\n",
       "      <th></th>\n",
       "      <th>review</th>\n",
       "      <th>sentiment</th>\n",
       "    </tr>\n",
       "  </thead>\n",
       "  <tbody>\n",
       "    <tr>\n",
       "      <th>0</th>\n",
       "      <td>One of the other reviewers has mentioned that ...</td>\n",
       "      <td>positive</td>\n",
       "    </tr>\n",
       "    <tr>\n",
       "      <th>1</th>\n",
       "      <td>A wonderful little production. &lt;br /&gt;&lt;br /&gt;The...</td>\n",
       "      <td>positive</td>\n",
       "    </tr>\n",
       "    <tr>\n",
       "      <th>2</th>\n",
       "      <td>I thought this was a wonderful way to spend ti...</td>\n",
       "      <td>positive</td>\n",
       "    </tr>\n",
       "    <tr>\n",
       "      <th>3</th>\n",
       "      <td>Basically there's a family where a little boy ...</td>\n",
       "      <td>negative</td>\n",
       "    </tr>\n",
       "    <tr>\n",
       "      <th>4</th>\n",
       "      <td>Petter Mattei's \"Love in the Time of Money\" is...</td>\n",
       "      <td>positive</td>\n",
       "    </tr>\n",
       "    <tr>\n",
       "      <th>5</th>\n",
       "      <td>Probably my all-time favorite movie, a story o...</td>\n",
       "      <td>positive</td>\n",
       "    </tr>\n",
       "    <tr>\n",
       "      <th>6</th>\n",
       "      <td>I sure would like to see a resurrection of a u...</td>\n",
       "      <td>positive</td>\n",
       "    </tr>\n",
       "    <tr>\n",
       "      <th>7</th>\n",
       "      <td>This show was an amazing, fresh &amp; innovative i...</td>\n",
       "      <td>negative</td>\n",
       "    </tr>\n",
       "    <tr>\n",
       "      <th>8</th>\n",
       "      <td>Encouraged by the positive comments about this...</td>\n",
       "      <td>negative</td>\n",
       "    </tr>\n",
       "    <tr>\n",
       "      <th>9</th>\n",
       "      <td>If you like original gut wrenching laughter yo...</td>\n",
       "      <td>positive</td>\n",
       "    </tr>\n",
       "    <tr>\n",
       "      <th>10</th>\n",
       "      <td>Phil the Alien is one of those quirky films wh...</td>\n",
       "      <td>negative</td>\n",
       "    </tr>\n",
       "    <tr>\n",
       "      <th>11</th>\n",
       "      <td>I saw this movie when I was about 12 when it c...</td>\n",
       "      <td>negative</td>\n",
       "    </tr>\n",
       "    <tr>\n",
       "      <th>12</th>\n",
       "      <td>So im not a big fan of Boll's work but then ag...</td>\n",
       "      <td>negative</td>\n",
       "    </tr>\n",
       "    <tr>\n",
       "      <th>13</th>\n",
       "      <td>The cast played Shakespeare.&lt;br /&gt;&lt;br /&gt;Shakes...</td>\n",
       "      <td>negative</td>\n",
       "    </tr>\n",
       "    <tr>\n",
       "      <th>14</th>\n",
       "      <td>This a fantastic movie of three prisoners who ...</td>\n",
       "      <td>positive</td>\n",
       "    </tr>\n",
       "    <tr>\n",
       "      <th>15</th>\n",
       "      <td>Kind of drawn in by the erotic scenes, only to...</td>\n",
       "      <td>negative</td>\n",
       "    </tr>\n",
       "  </tbody>\n",
       "</table>\n",
       "</div>"
      ],
      "text/plain": [
       "                                               review sentiment\n",
       "0   One of the other reviewers has mentioned that ...  positive\n",
       "1   A wonderful little production. <br /><br />The...  positive\n",
       "2   I thought this was a wonderful way to spend ti...  positive\n",
       "3   Basically there's a family where a little boy ...  negative\n",
       "4   Petter Mattei's \"Love in the Time of Money\" is...  positive\n",
       "5   Probably my all-time favorite movie, a story o...  positive\n",
       "6   I sure would like to see a resurrection of a u...  positive\n",
       "7   This show was an amazing, fresh & innovative i...  negative\n",
       "8   Encouraged by the positive comments about this...  negative\n",
       "9   If you like original gut wrenching laughter yo...  positive\n",
       "10  Phil the Alien is one of those quirky films wh...  negative\n",
       "11  I saw this movie when I was about 12 when it c...  negative\n",
       "12  So im not a big fan of Boll's work but then ag...  negative\n",
       "13  The cast played Shakespeare.<br /><br />Shakes...  negative\n",
       "14  This a fantastic movie of three prisoners who ...  positive\n",
       "15  Kind of drawn in by the erotic scenes, only to...  negative"
      ]
     },
     "execution_count": 2,
     "metadata": {},
     "output_type": "execute_result"
    }
   ],
   "source": [
    "imdb_dataset = pd.read_csv('C:/Users/Nosse/IMDBDataset.csv') #load data\n",
    "print(imdb_dataset.shape)\n",
    "imdb_dataset.head(16)"
   ]
  },
  {
   "cell_type": "markdown",
   "id": "925f19c2-12e9-4b0a-b6d0-77dca4741265",
   "metadata": {},
   "source": [
    "### 2.1 Dataset info"
   ]
  },
  {
   "cell_type": "code",
   "execution_count": 3,
   "id": "f6b22be8-a596-4627-93ab-1a8579ab9f79",
   "metadata": {
    "scrolled": true
   },
   "outputs": [
    {
     "data": {
      "text/html": [
       "<div>\n",
       "<style scoped>\n",
       "    .dataframe tbody tr th:only-of-type {\n",
       "        vertical-align: middle;\n",
       "    }\n",
       "\n",
       "    .dataframe tbody tr th {\n",
       "        vertical-align: top;\n",
       "    }\n",
       "\n",
       "    .dataframe thead th {\n",
       "        text-align: right;\n",
       "    }\n",
       "</style>\n",
       "<table border=\"1\" class=\"dataframe\">\n",
       "  <thead>\n",
       "    <tr style=\"text-align: right;\">\n",
       "      <th></th>\n",
       "      <th>review</th>\n",
       "      <th>sentiment</th>\n",
       "    </tr>\n",
       "  </thead>\n",
       "  <tbody>\n",
       "    <tr>\n",
       "      <th>count</th>\n",
       "      <td>50000</td>\n",
       "      <td>50000</td>\n",
       "    </tr>\n",
       "    <tr>\n",
       "      <th>unique</th>\n",
       "      <td>49582</td>\n",
       "      <td>2</td>\n",
       "    </tr>\n",
       "    <tr>\n",
       "      <th>top</th>\n",
       "      <td>Loved today's show!!! It was a variety and not...</td>\n",
       "      <td>positive</td>\n",
       "    </tr>\n",
       "    <tr>\n",
       "      <th>freq</th>\n",
       "      <td>5</td>\n",
       "      <td>25000</td>\n",
       "    </tr>\n",
       "  </tbody>\n",
       "</table>\n",
       "</div>"
      ],
      "text/plain": [
       "                                                   review sentiment\n",
       "count                                               50000     50000\n",
       "unique                                              49582         2\n",
       "top     Loved today's show!!! It was a variety and not...  positive\n",
       "freq                                                    5     25000"
      ]
     },
     "execution_count": 3,
     "metadata": {},
     "output_type": "execute_result"
    }
   ],
   "source": [
    "imdb_dataset.describe() #dataset summary"
   ]
  },
  {
   "cell_type": "code",
   "execution_count": 4,
   "id": "cdfcaf3a-b545-4261-a206-434be43bb2cb",
   "metadata": {},
   "outputs": [
    {
     "name": "stdout",
     "output_type": "stream",
     "text": [
      "<class 'pandas.core.frame.DataFrame'>\n",
      "RangeIndex: 50000 entries, 0 to 49999\n",
      "Data columns (total 2 columns):\n",
      " #   Column     Non-Null Count  Dtype \n",
      "---  ------     --------------  ----- \n",
      " 0   review     50000 non-null  object\n",
      " 1   sentiment  50000 non-null  object\n",
      "dtypes: object(2)\n",
      "memory usage: 781.4+ KB\n"
     ]
    }
   ],
   "source": [
    "imdb_dataset.info()"
   ]
  },
  {
   "cell_type": "markdown",
   "id": "c2e6a563-5263-496a-9b8a-0eaca6f06765",
   "metadata": {},
   "source": [
    "### 2.2 Sentiment count-info"
   ]
  },
  {
   "cell_type": "code",
   "execution_count": 5,
   "id": "c774d889-374b-401e-90eb-9d4368bac4a4",
   "metadata": {},
   "outputs": [
    {
     "data": {
      "text/plain": [
       "sentiment\n",
       "positive    25000\n",
       "negative    25000\n",
       "Name: count, dtype: int64"
      ]
     },
     "execution_count": 5,
     "metadata": {},
     "output_type": "execute_result"
    }
   ],
   "source": [
    "imdb_dataset['sentiment'].value_counts()"
   ]
  },
  {
   "cell_type": "code",
   "execution_count": null,
   "id": "e275121e-6d78-4b7a-81e6-b6f6434e6e16",
   "metadata": {},
   "outputs": [],
   "source": []
  },
  {
   "cell_type": "markdown",
   "id": "7476f20f-31e9-4f5e-9243-bfc10b77e913",
   "metadata": {},
   "source": [
    "## 3. Pre-Processing : Cleaning-Text"
   ]
  },
  {
   "cell_type": "markdown",
   "id": "0539ebaf-c542-4471-a184-15022522000e",
   "metadata": {},
   "source": [
    "### 3.1 Remove HTML tags & Noise from the text"
   ]
  },
  {
   "cell_type": "code",
   "execution_count": 6,
   "id": "64d92970-027a-4b9d-9762-e8d0ef947922",
   "metadata": {},
   "outputs": [],
   "source": [
    "#remove html from text\n",
    "def remove_html(text):\n",
    "    \n",
    "    if not isinstance(text, str):\n",
    "        text = str(text)\n",
    "        \n",
    "    ss = BeautifulSoup(text, \"html.parser\")\n",
    "    return ss.get_text()\n",
    "    \n",
    "#remove text between square brackets\n",
    "def remove_btw_square_bb(text):\n",
    "    return re.sub(r'\\[[^]]*\\]','',text)\n",
    "\n",
    "#call all the function to clean text\n",
    "def remove_noise_txt(text):\n",
    "    text = remove_html(text)\n",
    "    text = remove_btw_square_bb(text)\n",
    "    return text\n",
    "\n",
    "#apply the function\n",
    "imdb_dataset['review']= imdb_dataset['review'].apply(remove_noise_txt)\n"
   ]
  },
  {
   "cell_type": "markdown",
   "id": "c7172243-dfa5-4fcc-8e04-165f6f496f4a",
   "metadata": {},
   "source": [
    "#### Explanation:\n",
    "\n",
    "1. **Removing HTML from text**: the function *remove_html(text)* uses BeautifulSoup to parse HTML content from the given text and extract only text without the tags. Useful fro cleaning reviews that may contain HTML tags.\n",
    "   \n",
    "2. **Removing text bewtween square brackets**: the function *remove_btw_square_bb(text)* utilizes a regex (regular expression), to find and remove (replace) any text that appears between square brackets, this helps to eliminate irrelevant information.\n",
    "   \n",
    "3. **Removing Noise from text**: the function  *remove_noise_txt(text)* combines the two previous functions, first remove HTML tags and then eliminates text that is enclosed in square brackets."
   ]
  },
  {
   "cell_type": "markdown",
   "id": "c599462e-9d51-4193-9dd3-172e0158ccb1",
   "metadata": {},
   "source": [
    "### 3.2 Removing special CHR"
   ]
  },
  {
   "cell_type": "code",
   "execution_count": 7,
   "id": "6c1a0538-619c-4cbd-a806-e953ef394d78",
   "metadata": {},
   "outputs": [],
   "source": [
    "#Function to remove special chr with regex\n",
    "def remove_sp_CHR(text, remove_digits=True):\n",
    "    pattern= r'[^a-zA-z0-9\\s]'\n",
    "    text = re.sub(pattern,'',text)\n",
    "    return text\n",
    "\n",
    "#Function call\n",
    "imdb_dataset['review']= imdb_dataset['review'].apply(remove_sp_CHR)"
   ]
  },
  {
   "cell_type": "markdown",
   "id": "bb7f6109-2090-4614-a95f-4ab10c32ca52",
   "metadata": {},
   "source": [
    "#### Explanation:"
   ]
  },
  {
   "cell_type": "markdown",
   "id": "cd44607e-1afb-4f9a-984f-72da54ddb957",
   "metadata": {},
   "source": [
    "### 3.3 Result of Text Cleaned:"
   ]
  },
  {
   "cell_type": "code",
   "execution_count": 8,
   "id": "ee56e1d9-284b-4ea2-bbaf-7336aa34fb5c",
   "metadata": {},
   "outputs": [
    {
     "data": {
      "text/html": [
       "<div>\n",
       "<style scoped>\n",
       "    .dataframe tbody tr th:only-of-type {\n",
       "        vertical-align: middle;\n",
       "    }\n",
       "\n",
       "    .dataframe tbody tr th {\n",
       "        vertical-align: top;\n",
       "    }\n",
       "\n",
       "    .dataframe thead th {\n",
       "        text-align: right;\n",
       "    }\n",
       "</style>\n",
       "<table border=\"1\" class=\"dataframe\">\n",
       "  <thead>\n",
       "    <tr style=\"text-align: right;\">\n",
       "      <th></th>\n",
       "      <th>review</th>\n",
       "      <th>sentiment</th>\n",
       "    </tr>\n",
       "  </thead>\n",
       "  <tbody>\n",
       "    <tr>\n",
       "      <th>0</th>\n",
       "      <td>One of the other reviewers has mentioned that ...</td>\n",
       "      <td>positive</td>\n",
       "    </tr>\n",
       "    <tr>\n",
       "      <th>1</th>\n",
       "      <td>A wonderful little production The filming tech...</td>\n",
       "      <td>positive</td>\n",
       "    </tr>\n",
       "    <tr>\n",
       "      <th>2</th>\n",
       "      <td>I thought this was a wonderful way to spend ti...</td>\n",
       "      <td>positive</td>\n",
       "    </tr>\n",
       "    <tr>\n",
       "      <th>3</th>\n",
       "      <td>Basically theres a family where a little boy J...</td>\n",
       "      <td>negative</td>\n",
       "    </tr>\n",
       "    <tr>\n",
       "      <th>4</th>\n",
       "      <td>Petter Matteis Love in the Time of Money is a ...</td>\n",
       "      <td>positive</td>\n",
       "    </tr>\n",
       "    <tr>\n",
       "      <th>5</th>\n",
       "      <td>Probably my alltime favorite movie a story of ...</td>\n",
       "      <td>positive</td>\n",
       "    </tr>\n",
       "    <tr>\n",
       "      <th>6</th>\n",
       "      <td>I sure would like to see a resurrection of a u...</td>\n",
       "      <td>positive</td>\n",
       "    </tr>\n",
       "    <tr>\n",
       "      <th>7</th>\n",
       "      <td>This show was an amazing fresh  innovative ide...</td>\n",
       "      <td>negative</td>\n",
       "    </tr>\n",
       "    <tr>\n",
       "      <th>8</th>\n",
       "      <td>Encouraged by the positive comments about this...</td>\n",
       "      <td>negative</td>\n",
       "    </tr>\n",
       "    <tr>\n",
       "      <th>9</th>\n",
       "      <td>If you like original gut wrenching laughter yo...</td>\n",
       "      <td>positive</td>\n",
       "    </tr>\n",
       "    <tr>\n",
       "      <th>10</th>\n",
       "      <td>Phil the Alien is one of those quirky films wh...</td>\n",
       "      <td>negative</td>\n",
       "    </tr>\n",
       "    <tr>\n",
       "      <th>11</th>\n",
       "      <td>I saw this movie when I was about 12 when it c...</td>\n",
       "      <td>negative</td>\n",
       "    </tr>\n",
       "    <tr>\n",
       "      <th>12</th>\n",
       "      <td>So im not a big fan of Bolls work but then aga...</td>\n",
       "      <td>negative</td>\n",
       "    </tr>\n",
       "    <tr>\n",
       "      <th>13</th>\n",
       "      <td>The cast played ShakespeareShakespeare lostI a...</td>\n",
       "      <td>negative</td>\n",
       "    </tr>\n",
       "    <tr>\n",
       "      <th>14</th>\n",
       "      <td>This a fantastic movie of three prisoners who ...</td>\n",
       "      <td>positive</td>\n",
       "    </tr>\n",
       "    <tr>\n",
       "      <th>15</th>\n",
       "      <td>Kind of drawn in by the erotic scenes only to ...</td>\n",
       "      <td>negative</td>\n",
       "    </tr>\n",
       "  </tbody>\n",
       "</table>\n",
       "</div>"
      ],
      "text/plain": [
       "                                               review sentiment\n",
       "0   One of the other reviewers has mentioned that ...  positive\n",
       "1   A wonderful little production The filming tech...  positive\n",
       "2   I thought this was a wonderful way to spend ti...  positive\n",
       "3   Basically theres a family where a little boy J...  negative\n",
       "4   Petter Matteis Love in the Time of Money is a ...  positive\n",
       "5   Probably my alltime favorite movie a story of ...  positive\n",
       "6   I sure would like to see a resurrection of a u...  positive\n",
       "7   This show was an amazing fresh  innovative ide...  negative\n",
       "8   Encouraged by the positive comments about this...  negative\n",
       "9   If you like original gut wrenching laughter yo...  positive\n",
       "10  Phil the Alien is one of those quirky films wh...  negative\n",
       "11  I saw this movie when I was about 12 when it c...  negative\n",
       "12  So im not a big fan of Bolls work but then aga...  negative\n",
       "13  The cast played ShakespeareShakespeare lostI a...  negative\n",
       "14  This a fantastic movie of three prisoners who ...  positive\n",
       "15  Kind of drawn in by the erotic scenes only to ...  negative"
      ]
     },
     "execution_count": 8,
     "metadata": {},
     "output_type": "execute_result"
    }
   ],
   "source": [
    "imdb_dataset.head(16)"
   ]
  },
  {
   "cell_type": "markdown",
   "id": "a83523ab-2260-48a0-a569-beacf137dc95",
   "metadata": {},
   "source": [
    "## 4. Exploratory Data Analysis and General Pre-Processing"
   ]
  },
  {
   "cell_type": "markdown",
   "id": "87332a3f-ac5d-4479-ac13-acbd47cdfa5c",
   "metadata": {},
   "source": [
    "### 4.1 Null or Duplicate values Detection (columns - rows)"
   ]
  },
  {
   "cell_type": "code",
   "execution_count": 9,
   "id": "bee49e1a-fe60-4bb8-804f-23cb1f8411be",
   "metadata": {},
   "outputs": [
    {
     "name": "stdout",
     "output_type": "stream",
     "text": [
      "Null values - each column: \n",
      " review       0\n",
      "sentiment    0\n",
      "dtype: int64\n",
      "\n",
      " Duplicates -  rows: \n",
      " 419\n"
     ]
    }
   ],
   "source": [
    "null_var_column = imdb_dataset.isnull().sum() #null values in dataset\n",
    "print(\"Null values - each column: \\n\",null_var_column)\n",
    "\n",
    "duplicate_rows = imdb_dataset.duplicated().sum() #duplicate rows in dataset\n",
    "print(\"\\n Duplicates -  rows: \\n\",duplicate_rows)"
   ]
  },
  {
   "cell_type": "markdown",
   "id": "364367fe-a281-4444-ae9d-22db45ec8fb8",
   "metadata": {},
   "source": [
    "#### Explanation"
   ]
  },
  {
   "cell_type": "markdown",
   "id": "6bf0f46a-0eee-444e-8439-30605d575976",
   "metadata": {},
   "source": [
    "### 4.2 Working Features"
   ]
  },
  {
   "cell_type": "markdown",
   "id": "43ee50fd-ff2a-4b03-9989-037a40ff2558",
   "metadata": {},
   "source": [
    "#### 4.2.1 Review Length"
   ]
  },
  {
   "cell_type": "code",
   "execution_count": 10,
   "id": "4f704352-a3c3-41fa-8dba-96b8dff79099",
   "metadata": {},
   "outputs": [
    {
     "data": {
      "text/html": [
       "<div>\n",
       "<style scoped>\n",
       "    .dataframe tbody tr th:only-of-type {\n",
       "        vertical-align: middle;\n",
       "    }\n",
       "\n",
       "    .dataframe tbody tr th {\n",
       "        vertical-align: top;\n",
       "    }\n",
       "\n",
       "    .dataframe thead th {\n",
       "        text-align: right;\n",
       "    }\n",
       "</style>\n",
       "<table border=\"1\" class=\"dataframe\">\n",
       "  <thead>\n",
       "    <tr style=\"text-align: right;\">\n",
       "      <th></th>\n",
       "      <th>review</th>\n",
       "      <th>sentiment</th>\n",
       "      <th>review_len</th>\n",
       "    </tr>\n",
       "  </thead>\n",
       "  <tbody>\n",
       "    <tr>\n",
       "      <th>0</th>\n",
       "      <td>One of the other reviewers has mentioned that ...</td>\n",
       "      <td>positive</td>\n",
       "      <td>301</td>\n",
       "    </tr>\n",
       "    <tr>\n",
       "      <th>1</th>\n",
       "      <td>A wonderful little production The filming tech...</td>\n",
       "      <td>positive</td>\n",
       "      <td>156</td>\n",
       "    </tr>\n",
       "    <tr>\n",
       "      <th>2</th>\n",
       "      <td>I thought this was a wonderful way to spend ti...</td>\n",
       "      <td>positive</td>\n",
       "      <td>162</td>\n",
       "    </tr>\n",
       "    <tr>\n",
       "      <th>3</th>\n",
       "      <td>Basically theres a family where a little boy J...</td>\n",
       "      <td>negative</td>\n",
       "      <td>129</td>\n",
       "    </tr>\n",
       "    <tr>\n",
       "      <th>4</th>\n",
       "      <td>Petter Matteis Love in the Time of Money is a ...</td>\n",
       "      <td>positive</td>\n",
       "      <td>222</td>\n",
       "    </tr>\n",
       "    <tr>\n",
       "      <th>5</th>\n",
       "      <td>Probably my alltime favorite movie a story of ...</td>\n",
       "      <td>positive</td>\n",
       "      <td>119</td>\n",
       "    </tr>\n",
       "    <tr>\n",
       "      <th>6</th>\n",
       "      <td>I sure would like to see a resurrection of a u...</td>\n",
       "      <td>positive</td>\n",
       "      <td>150</td>\n",
       "    </tr>\n",
       "    <tr>\n",
       "      <th>7</th>\n",
       "      <td>This show was an amazing fresh  innovative ide...</td>\n",
       "      <td>negative</td>\n",
       "      <td>170</td>\n",
       "    </tr>\n",
       "    <tr>\n",
       "      <th>8</th>\n",
       "      <td>Encouraged by the positive comments about this...</td>\n",
       "      <td>negative</td>\n",
       "      <td>124</td>\n",
       "    </tr>\n",
       "    <tr>\n",
       "      <th>9</th>\n",
       "      <td>If you like original gut wrenching laughter yo...</td>\n",
       "      <td>positive</td>\n",
       "      <td>31</td>\n",
       "    </tr>\n",
       "  </tbody>\n",
       "</table>\n",
       "</div>"
      ],
      "text/plain": [
       "                                              review sentiment  review_len\n",
       "0  One of the other reviewers has mentioned that ...  positive         301\n",
       "1  A wonderful little production The filming tech...  positive         156\n",
       "2  I thought this was a wonderful way to spend ti...  positive         162\n",
       "3  Basically theres a family where a little boy J...  negative         129\n",
       "4  Petter Matteis Love in the Time of Money is a ...  positive         222\n",
       "5  Probably my alltime favorite movie a story of ...  positive         119\n",
       "6  I sure would like to see a resurrection of a u...  positive         150\n",
       "7  This show was an amazing fresh  innovative ide...  negative         170\n",
       "8  Encouraged by the positive comments about this...  negative         124\n",
       "9  If you like original gut wrenching laughter yo...  positive          31"
      ]
     },
     "execution_count": 10,
     "metadata": {},
     "output_type": "execute_result"
    }
   ],
   "source": [
    "imdb_dataset['review_len'] = imdb_dataset['review'].apply(lambda x: len(x.split())) #Creates a new column with the length (in number of words) of each review.\n",
    "\n",
    "imdb_dataset.head(10)"
   ]
  },
  {
   "cell_type": "markdown",
   "id": "bf45e860-fc80-468b-b417-182d1caf3a2e",
   "metadata": {},
   "source": [
    "#### 4.2.2 Unique Review Length and Binning length"
   ]
  },
  {
   "cell_type": "code",
   "execution_count": 11,
   "id": "413b2b87-ba91-4160-ab9b-da72dde08d56",
   "metadata": {},
   "outputs": [
    {
     "name": "stdout",
     "output_type": "stream",
     "text": [
      "Unique Review Lengths:\n",
      "[ 301  156  162 ... 1062  874 1136]\n"
     ]
    }
   ],
   "source": [
    "unique_len = imdb_dataset['review_len'].unique() #Unique column of rev_len\n",
    "print(\"Unique Review Lengths:\")\n",
    "print(unique_len)"
   ]
  },
  {
   "cell_type": "code",
   "execution_count": 12,
   "id": "6640da14-b9d1-4c4b-bcb7-c2ccf6514f6b",
   "metadata": {},
   "outputs": [
    {
     "name": "stdout",
     "output_type": "stream",
     "text": [
      "   review_len review_len_binned\n",
      "0         301            Medium\n",
      "1         156            Medium\n",
      "2         162            Medium\n",
      "3         129            Medium\n",
      "4         222            Medium\n",
      "5         119            Medium\n",
      "6         150            Medium\n",
      "7         170            Medium\n",
      "8         124            Medium\n",
      "9          31             Short\n"
     ]
    }
   ],
   "source": [
    "#Defining binning range and labels\n",
    "bins= [0,100,500,1000,1500,float('inf')]\n",
    "labels = ['Short','Medium','Large','Extra Large','Extra Extra Large']\n",
    "\n",
    "#New Column based on binning rules\n",
    "imdb_dataset['review_len_binned'] = pd.cut(imdb_dataset['review_len'],bins=bins,labels=labels,right=True)\n",
    "\n",
    "print(imdb_dataset[['review_len', 'review_len_binned']].head(10)) #display binned length"
   ]
  },
  {
   "cell_type": "markdown",
   "id": "9dc27f9e-7e22-497e-9b5d-195cc4c267c2",
   "metadata": {},
   "source": [
    "### 4.3 Sentiment Class Distribution"
   ]
  },
  {
   "cell_type": "code",
   "execution_count": 13,
   "id": "01b9386f-7126-4c82-a59e-12ac1a23d5aa",
   "metadata": {},
   "outputs": [
    {
     "data": {
      "image/png": "[encoded data removed]",
      "text/plain": [
       "<Figure size 800x600 with 1 Axes>"
      ]
     },
     "metadata": {},
     "output_type": "display_data"
    }
   ],
   "source": [
    "plt.figure(figsize=(8,6)) #plot size\n",
    "\n",
    "ax= sns.countplot(x='sentiment',data=imdb_dataset, palette=['#FF0000', '#008000']) # define (Axis X)\n",
    "\n",
    "plt.title('Sentiment Distribution',fontsize=15,weight='bold',ha='center',pad=25) # plot title\n",
    "\n",
    "#Add counts value above\n",
    "for p in ax.patches:\n",
    "    ax.annotate(f'{int(p.get_height())}',(p.get_x() + p.get_width() /2.,p.get_height()),ha='center', va='bottom', fontsize=15)\n",
    "\n",
    "ax.set_xticklabels(['Negative','Positive'],ha='center') #Set x-axis labels\n",
    "ax.tick_params(axis='y', labelsize=15)\n",
    "\n",
    "#display plot\n",
    "plt.show() \n"
   ]
  },
  {
   "cell_type": "markdown",
   "id": "6d3b85dc-2601-4c93-a07d-5531783ae8bf",
   "metadata": {},
   "source": [
    "#### Note"
   ]
  },
  {
   "cell_type": "markdown",
   "id": "209fbbf3-1e69-4ed0-ac99-26a700e495a1",
   "metadata": {},
   "source": [
    "The Negative and Positive classes are balance in the dataset"
   ]
  },
  {
   "cell_type": "markdown",
   "id": "30c57c72-b4ea-4544-ab53-679581f3dcc0",
   "metadata": {},
   "source": [
    "### 4.4 Review Length frequency plot"
   ]
  },
  {
   "cell_type": "code",
   "execution_count": 14,
   "id": "6b31406c-efeb-40ca-9313-29e8288c74e9",
   "metadata": {},
   "outputs": [
    {
     "data": {
      "image/png": "[encoded data removed]",
      "text/plain": [
       "<Figure size 1000x600 with 1 Axes>"
      ]
     },
     "metadata": {},
     "output_type": "display_data"
    }
   ],
   "source": [
    "plt.figure(figsize=(10,6))\n",
    "ax = sns.histplot(imdb_dataset['review_len'],bins=30)\n",
    "\n",
    "plt.title('Review Length Frequency')\n",
    "plt.xlabel('Word Count')\n",
    "plt.ylabel('Frequency')\n",
    "\n",
    "plt.show()"
   ]
  },
  {
   "cell_type": "markdown",
   "id": "181b4cda-df50-4e34-8f43-967f1fea000f",
   "metadata": {},
   "source": [
    "**The most frequent reviews are those with a word count between 0 and 500**"
   ]
  },
  {
   "cell_type": "markdown",
   "id": "c3c7cb4f-a821-4ca5-ba7c-6a7224f94a73",
   "metadata": {},
   "source": [
    "### 4.5 Does Review Length Influence Sentiment?"
   ]
  },
  {
   "cell_type": "code",
   "execution_count": 15,
   "id": "35b367d9-916f-404e-a9c6-598819ed538b",
   "metadata": {},
   "outputs": [
    {
     "name": "stdout",
     "output_type": "stream",
     "text": [
      "sentiment           negative    positive\n",
      "review_len_binned                       \n",
      "Short              46.067245   53.932755\n",
      "Medium             51.043476   48.956524\n",
      "Large              45.945946   54.054054\n",
      "Extra Large        40.625000   59.375000\n",
      "Extra Extra Large   0.000000  100.000000\n"
     ]
    }
   ],
   "source": [
    "#Generate a contingency table that shows how often each combination of review length category and sentiment occurs.\n",
    "cont_table = pd.crosstab(imdb_dataset['review_len_binned'],imdb_dataset['sentiment']) \n",
    "\n",
    "#Calculate percentages on totals for each row\n",
    "cont_table_perc = cont_table.div(cont_table.sum(axis=1),axis=0)*100 \n",
    "\n",
    "print(cont_table_perc)"
   ]
  },
  {
   "cell_type": "markdown",
   "id": "a5d4ba36-2e1a-4586-8463-ef58e3c05342",
   "metadata": {},
   "source": [
    "**The percentage is calculated on the totals of each row of the contingency table**"
   ]
  },
  {
   "cell_type": "code",
   "execution_count": 16,
   "id": "6266b916-d98c-40f9-ac79-9e3dccfaf01d",
   "metadata": {},
   "outputs": [
    {
     "data": {
      "image/png": "[encoded data removed]",
      "text/plain": [
       "<Figure size 1000x700 with 2 Axes>"
      ]
     },
     "metadata": {},
     "output_type": "display_data"
    }
   ],
   "source": [
    "cont_table = pd.crosstab(imdb_dataset['review_len_binned'], imdb_dataset['sentiment'])\n",
    "\n",
    "cont_table_perc = cont_table.div(cont_table.sum(axis=1), axis=0)\n",
    "\n",
    "plt.figure(figsize=(10,7))\n",
    "\n",
    "ax = sns.heatmap(cont_table_perc,annot=True,fmt=\".2%\",cbar=True)\n",
    "\n",
    "plt.title(\"Association Between Text Length and Sentiment\")\n",
    "\n",
    "ax.set_xlabel('Sentiment (0: Negative, 1: Positive)')\n",
    "ax.set_ylabel('')\n",
    "\n",
    "plt.show()"
   ]
  },
  {
   "cell_type": "markdown",
   "id": "799e4207-e0e2-458d-976b-57e70f2f1327",
   "metadata": {},
   "source": [
    "**Those who write long reviews tend to motivate a positive judgment**\n",
    "\n",
    "As the length of the review increases, the likelihood that it will be positive increases\n",
    "\n",
    "**Short reviews are more critical or neutral.**\n",
    "\n",
    "Short or medium reviews are more balanced or slightly negative.\n",
    "\n",
    "**Relevance of Review Length**: there appears to be a positive association between review length and sentiment, indicating that users tend to elaborate more when sharing positive feedback.\n",
    "\n"
   ]
  },
  {
   "cell_type": "markdown",
   "id": "82d4e06f-2017-42c7-b229-99b8a90da22a",
   "metadata": {},
   "source": [
    "Vedere se aggiungere un test di ipotesi adatto chiedere al professore...."
   ]
  },
  {
   "cell_type": "markdown",
   "id": "c2c5aabd-7f9c-4455-b1a5-315dc0ba9641",
   "metadata": {},
   "source": [
    "### 4.6 Text Normalization & Stop-words & Tokenization"
   ]
  },
  {
   "cell_type": "code",
   "execution_count": 17,
   "id": "711011ea-4764-4dc5-be1c-75442cc8abe9",
   "metadata": {},
   "outputs": [
    {
     "name": "stderr",
     "output_type": "stream",
     "text": [
      "[nltk_data] Downloading package stopwords to\n",
      "[nltk_data]     C:\\Users\\Nosse\\AppData\\Roaming\\nltk_data...\n",
      "[nltk_data]   Package stopwords is already up-to-date!\n"
     ]
    }
   ],
   "source": [
    "import nltk\n",
    "from nltk.corpus import stopwords\n",
    "from nltk.tokenize.toktok import ToktokTokenizer\n",
    "\n",
    "#download  stop-words\n",
    "nltk.download('stopwords')\n",
    "\n",
    "#Tokenization\n",
    "tokenizer = ToktokTokenizer()\n",
    "\n",
    "#List of stop-words\n",
    "stopword_list = stopwords.words('english')"
   ]
  },
  {
   "cell_type": "markdown",
   "id": "a0f30815-b242-47f4-b078-d39f533eb753",
   "metadata": {},
   "source": [
    "**NLTK Import and Stopword Download**\n",
    "The code begins by importing the NLTK (Natural Language Toolkit) library, a widely used toolkit for natural language processing. It also downloads the English stopwords set  a collection of frequently occurring words like \"and,\" \"is,\" and \"that\" which are usually excluded during preprocessing due to their limited contribution to text meaning.\n",
    "\n",
    "**Tokenizing the Text**\n",
    "A tokenizer instance using ToktokTokenizer is created. Tokenization refers to splitting the text into smaller components (typically words or phrases), facilitating easier analysis and manipulation.\n",
    "\n",
    "**Setting English Stopwords**\n",
    "Using NLTK, the code defines a list of English stopwords. This enables the model to filter out these commonly used terms that don't add significant value to sentiment interpretation."
   ]
  },
  {
   "cell_type": "markdown",
   "id": "8d837c5e-e7e5-47d4-ac71-997f4504daf6",
   "metadata": {},
   "source": [
    "### 4.7 Optimization : Text Stemming"
   ]
  },
  {
   "cell_type": "markdown",
   "id": "a67d3c2c-a2b7-4221-b028-e02b2c78e5bc",
   "metadata": {},
   "source": [
    "Stemming is a text preprocessing technique used in Natural Language Processing (NLP) to reduce words to their root or base form, known as the stem. The goal is to treat words with similar meanings (such as \"running\", \"runs\", \"ran\") as a single term, thereby improving the efficiency and effectiveness of text analysis."
   ]
  },
  {
   "cell_type": "code",
   "execution_count": 18,
   "id": "dab159d7-ee09-4dde-a33d-35b99041412b",
   "metadata": {},
   "outputs": [],
   "source": [
    "#Stemming Function\n",
    "def stem_txt(txt):\n",
    "    Ps = nltk.porter.PorterStemmer()\n",
    "    txt = ' '.join([Ps.stem(word) for word in txt.split()])\n",
    "    return txt\n",
    "\n",
    "#Apply f\n",
    "imdb_dataset['review']=imdb_dataset['review'].apply(stem_txt)\n",
    "\n"
   ]
  },
  {
   "cell_type": "markdown",
   "id": "2243fc53-af61-4a6a-8f2c-7f1c93c2bef2",
   "metadata": {},
   "source": [
    "**Stem_txt** : this function applies stemming to a given text using the **Porter Stemmer** from the NLTK library.\n",
    "Splits the input text into individual words,applies stemming to each word using the **stem()** method.\n",
    "After all, rebuilds the list of stemmed words into a single string and returns the processed (stemmed) text.\n",
    "\n",
    "**The stem_txt() function is applied to every review in the review column of the imdb_dataset. The original review texts are replaced with their stemmed versions.**"
   ]
  },
  {
   "cell_type": "code",
   "execution_count": 19,
   "id": "d7513ddd-3ea2-4d20-b042-8077c5e0707d",
   "metadata": {},
   "outputs": [
    {
     "name": "stdout",
     "output_type": "stream",
     "text": [
      "0    one of the other review ha mention that after ...\n",
      "1    a wonder littl product the film techniqu is ve...\n",
      "2    i thought thi wa a wonder way to spend time on...\n",
      "3    basic there a famili where a littl boy jake th...\n",
      "4    petter mattei love in the time of money is a v...\n",
      "5    probabl my alltim favorit movi a stori of self...\n",
      "6    i sure would like to see a resurrect of a up d...\n",
      "7    thi show wa an amaz fresh innov idea in the 70...\n",
      "8    encourag by the posit comment about thi film o...\n",
      "9    if you like origin gut wrench laughter you wil...\n",
      "Name: review, dtype: object\n"
     ]
    }
   ],
   "source": [
    "#Show Stemming result on dataset\n",
    "print(imdb_dataset['review'].head(10))"
   ]
  },
  {
   "cell_type": "markdown",
   "id": "d05101fb-a3df-4656-8388-626476778e44",
   "metadata": {},
   "source": [
    "### 4.8 Optimization : Delete Features"
   ]
  },
  {
   "cell_type": "code",
   "execution_count": 20,
   "id": "34e85dbb-9471-4a3b-b404-c57d02927041",
   "metadata": {},
   "outputs": [
    {
     "name": "stdout",
     "output_type": "stream",
     "text": [
      "                                              review sentiment\n",
      "0  one of the other review ha mention that after ...  positive\n",
      "1  a wonder littl product the film techniqu is ve...  positive\n",
      "2  i thought thi wa a wonder way to spend time on...  positive\n",
      "3  basic there a famili where a littl boy jake th...  negative\n",
      "4  petter mattei love in the time of money is a v...  positive\n"
     ]
    }
   ],
   "source": [
    "imdb_dataset = imdb_dataset.drop(['review_len','review_len_binned'],axis=1)\n",
    "print(imdb_dataset.head())"
   ]
  },
  {
   "cell_type": "markdown",
   "id": "ad6280d3-b7c2-4ac3-9ccf-54e581b28f9c",
   "metadata": {},
   "source": [
    "### 4.9 Data Split: Review"
   ]
  },
  {
   "cell_type": "code",
   "execution_count": 21,
   "id": "efe4da75-53bd-4928-bea1-50578bf55d3d",
   "metadata": {},
   "outputs": [
    {
     "name": "stdout",
     "output_type": "stream",
     "text": [
      "#1 TRAINING REVIEW:\n",
      "one of the other review ha mention that after watch just 1 oz episod youll be hook they are right as thi is exactli what happen with meth first thing that struck me about oz wa it brutal and unflinch scene of violenc which set in right from the word go trust me thi is not a show for the faint heart or timid thi show pull no punch with regard to drug sex or violenc it is hardcor in the classic use of the wordit is call oz as that is the nicknam given to the oswald maximum secur state penitentari it focus mainli on emerald citi an experiment section of the prison where all the cell have glass front and face inward so privaci is not high on the agenda em citi is home to manyaryan muslim gangsta latino christian italian irish and moreso scuffl death stare dodgi deal and shadi agreement are never far awayi would say the main appeal of the show is due to the fact that it goe where other show wouldnt dare forget pretti pictur paint for mainstream audienc forget charm forget romanceoz doesnt mess around the first episod i ever saw struck me as so nasti it wa surreal i couldnt say i wa readi for it but as i watch more i develop a tast for oz and got accustom to the high level of graphic violenc not just violenc but injustic crook guard wholl be sold out for a nickel inmat wholl kill on order and get away with it well manner middl class inmat be turn into prison bitch due to their lack of street skill or prison experi watch oz you may becom comfort with what is uncomfort viewingthat if you can get in touch with your darker side\n",
      "\n",
      "#1 TESTING REVIEW:\n",
      "first off i want to say that i lean liber on the polit scale and i found the movi offens i manag to watch the whole doggon disgrac of a film thi movi bring a low to origin idea ye it wa origin thu my 2 star instead of 1 are our film writer that uncr that they can onli come up with thi act wa horribl and the charact were unlik for the most part the lead ladi in the stori had no good qualiti at all they made her bf into some sort of a bad guy and i did not see that at all mayb i miss someth i do not knowh wa the most down to earth relev charact in the movi i did not shell out ani money for thi garbag i almost wish peta would come to the rescu of thi aw offens movi and form a protest disgust that all i have to say anymor\n",
      "\n",
      "Train Setiments Len:  (40000,)\n",
      "Test Setiments Len:  (10000,)\n"
     ]
    }
   ],
   "source": [
    "from sklearn.model_selection import train_test_split\n",
    "\n",
    "#Take 80% of the data for training\n",
    "train_size = int(0.8 * len(imdb_dataset))\n",
    "\n",
    "#Splitting training and testing sets\n",
    "n_train_revw = imdb_dataset.review[:train_size]\n",
    "n_test_revw = imdb_dataset.review[train_size:]\n",
    "train_sentiments = imdb_dataset.sentiment[:train_size]\n",
    "test_sentiments = imdb_dataset.sentiment[train_size:]\n",
    "\n",
    "X_tr = n_train_revw\n",
    "X_test = n_test_revw\n",
    "\n",
    "Y_tr = train_sentiments\n",
    "Y_test = test_sentiments \n",
    "\n",
    "print(f\"#1 TRAINING REVIEW:\\n{X_tr.iloc[0]}\\n\")\n",
    "print(f\"#1 TESTING REVIEW:\\n{X_test.iloc[0]}\\n\")\n",
    "\n",
    "print(\"Train Setiments Len: \", Y_tr.shape)\n",
    "print(\"Test Setiments Len: \", Y_test.shape)\n",
    "\n"
   ]
  },
  {
   "cell_type": "markdown",
   "id": "fb248769-c2b8-481c-a4ca-51e177480c62",
   "metadata": {},
   "source": [
    "This data split is a **crucial step in building a machine learning model**. The dataset is divided into two parts:\n",
    "\n",
    "**Training set** 80% (X_train, y_train): Used to train the model, allowing it to learn patterns and relationships between the review text and the corresponding sentiment labels.\n",
    "\n",
    "**Testing set** 20%(X_test, y_test): Used to evaluate the model’s generalization capability on unseen data. This simulates how the model would perform in real-world scenarios, ensuring that it doesn't just memorize the training data but can actually make accurate predictions on new inputs.\n",
    "\n",
    "By separating the data, we prevent data leakage and ensure that model evaluation is unbiased and reliable. This approach helps in identifying issues like overfitting or underfitting, which are critical to address when developing robust machine learning solutions."
   ]
  },
  {
   "cell_type": "markdown",
   "id": "6f3dd9b8-ab83-4c78-8fa9-629c07c3f1a7",
   "metadata": {},
   "source": [
    "## 5. Bags of words\n",
    "The **Bag of Words** is a common technique in *Natural Language Processing (NLP)* used to convert text into numerical form. It represents a document by counting the **occurrences of each word**, ignoring grammar and word order. Only the presence and frequency of words matter.\n",
    "\n",
    "EX:\n",
    "| Sentence              | The | cat | eats | fish | dog | meat |\n",
    "| --------------------- | --- | --- | ---- | ---- | --- | ---- |\n",
    "| `\"The cat eats fish\"` | 1   | 1   | 1    | 1    | 0   | 0    |\n",
    "| `\"The dog eats meat\"` | 1   | 0   | 1    | 0    | 1   | 1    |\n"
   ]
  },
  {
   "cell_type": "code",
   "execution_count": 22,
   "id": "e08d80e9-4b16-4b8c-b226-7c1b1bb6e5e6",
   "metadata": {},
   "outputs": [
    {
     "name": "stdout",
     "output_type": "stream",
     "text": [
      "BOW_vc_train: (40000, 6030526)\n",
      "BOW_vc_test: (10000, 6030526)\n"
     ]
    }
   ],
   "source": [
    "#Count Vector for BoW\n",
    "vector_cc = CountVectorizer(min_df=1, max_df=1, binary=False, ngram_range=(1,3))\n",
    "\n",
    "vector_train_rev = vector_cc.fit_transform(n_train_revw)\n",
    "vector_test_rev = vector_cc.transform(n_test_revw)\n",
    "\n",
    "print('BOW_vc_train:', vector_train_rev.shape)\n",
    "print('BOW_vc_test:', vector_test_rev.shape)"
   ]
  },
  {
   "cell_type": "markdown",
   "id": "b7579f0f-7c4c-45e2-97cc-1806e8d7b3ef",
   "metadata": {},
   "source": [
    "*This code prepares text data for analysis by converting it into a format that can be understood by machine learning models.*\n",
    "\n",
    "**Count Vectorizer for Bag of Words**: The code initializes the CountVectorizer, which transforms the text data into a bag-of-words (BoW) representation. This representation counts how many times each word (or combination of words) appears in the reviews. The settings used allow:\n",
    "\n",
    "    Including words that appear at least once (min_df=1).\n",
    "    Ignoring words that appear in all documents (max_df=1).\n",
    "    Creating single words, word pairs, and word triplets as features (ngram_range=(1,3)).\n",
    "    \n",
    "**Transforming Reviews**: The code then processes the training reviews (n_train_revw) to create a matrix (vector_train_rev) that shows the count of each word/phrase. It also processes the testing reviews (n_test_revw) to create a separate matrix (vector_test_rev).\n",
    "\n",
    "**Printing Shapes**: Finally, the code prints the dimensions of the training and testing matrices, showing how many reviews and unique words/phrases are included."
   ]
  },
  {
   "cell_type": "markdown",
   "id": "3f15e540-700c-4a3b-8679-975367556f93",
   "metadata": {},
   "source": [
    "## 6. TFIDF model"
   ]
  },
  {
   "cell_type": "markdown",
   "id": "53348474-f1a1-401c-acf8-34f1b5dfb81e",
   "metadata": {},
   "source": [
    "### **DEF. of Term Frequency-Inverse Document Frequency model:**\n",
    "\n",
    "**TF-IDF** is a numerical statistic used in Natural Language Processing (NLP) to measure the importance of a word in a document relative to a collection of documents (corpus). It combines:\n",
    "\n",
    "* **TF (Term Frequency):** how often a word appears in a document.\n",
    "* **IDF (Inverse Document Frequency):** how rare the word is across all documents.\n",
    "\n",
    "The result helps highlight words that are both frequent in a specific document and distinctive across the corpus, making TF-IDF useful for tasks like text classification, keyword extraction, and information retrieval.\n",
    "\n",
    "\n",
    "The **TF-IDF score** for a word *t* in a document *d* is calculated as:\n",
    "\n",
    "$$\n",
    "\\text{TF-IDF}(t, d) = \\text{TF}(t, d) \\times \\text{IDF}(t)\n",
    "$$\n",
    "\n",
    "Where:\n",
    "\n",
    "* **TF(t, d)** = Term Frequency =\n",
    "  Number of times term *t* appears in document *d*, usually normalized (e.g., divided by total words in the document).\n",
    "\n",
    "* **IDF(t)** = Inverse Document Frequency =\n",
    "\n",
    "  $$\n",
    "  \\text{IDF}(t) = \\log \\left( \\frac{N}{1 + \\text{DF}(t)} \\right)\n",
    "  $$\n",
    "\n",
    "  * *N* = Total number of documents\n",
    "  * *DF(t)* = Number of documents containing the term *t*\n",
    "  * `1 +` in the denominator avoids division by zero\n",
    "\n",
    "\n",
    "* **TF** captures how important a word is **within a specific document**.\n",
    "* **IDF** captures how **unique or rare** the word is **across all documents**.\n",
    "* The final TF-IDF score highlights words that are **frequent in one document but rare in the entire corpus**, making them more informative."
   ]
  },
  {
   "cell_type": "code",
   "execution_count": 23,
   "id": "d1de3aed-976e-4cb3-8bf6-81cbed2579f3",
   "metadata": {},
   "outputs": [
    {
     "name": "stdout",
     "output_type": "stream",
     "text": [
      "Tfidf_train: (40000, 6030526)\n",
      "Tfidf_test: (10000, 6030526)\n"
     ]
    }
   ],
   "source": [
    "#Def. TfidfVectorizer\n",
    "tfidf= TfidfVectorizer(min_df=1,max_df=1, use_idf=True, ngram_range=(1,3))\n",
    "\n",
    "#Tfidf Train set\n",
    "tfidf_train_data = tfidf.fit_transform(n_train_revw)\n",
    "\n",
    "#Tfidf Test set\n",
    "tfidf_test_data = tfidf.transform(n_test_revw)\n",
    "\n",
    "\n",
    "\n",
    "print('Tfidf_train:', tfidf_train_data.shape)\n",
    "print('Tfidf_test:', tfidf_test_data.shape)"
   ]
  },
  {
   "cell_type": "markdown",
   "id": "8c8c38c5-5a80-431e-9436-4d46306f0117",
   "metadata": {},
   "source": [
    "*This code uses the **TF-IDF Vectorizer** to convert text data into a numerical format that captures the importance of words in relation to the entire dataset*:\n",
    "\n",
    "\n",
    "**Def. the TF-IDF Vectorizer**:The code initializes TfidfVectorizer, which transform text into Term Frequency-Inverse Document Frequency (TF-IDF) representation. This approach helps to find the importance of a word in a review relative to the entire dataset. The settings used allow for:\n",
    "\n",
    "    Including words that appear at least once (min_df=1).\n",
    "    Ignoring words that appear in all documents (max_df=1).\n",
    "    Creating single words, word pairs, and word triplets as features (ngram_range=(1,3)).\n",
    "    \n",
    "**Transforming Reviews**: This code then processes the training reviews (n_train_revw) to create a matrix (tfidf_train_data) that represents the TF-IDF scores of each word/phrase. It also processes the testing reviews (n_test_revw) to create a separate matrix (tfidf_test_data).\n",
    "\n",
    "**Printing Shapes**: Finally, this code prints the dimensions of the training and testing matrices, indicating how many reviews and unique words/phrases are included in the TF-IDF representation."
   ]
  },
  {
   "cell_type": "markdown",
   "id": "1fb3bd7f-fd2d-4dfc-8c9a-0a7c47af35a7",
   "metadata": {},
   "source": [
    "Corpus:\n",
    "\n",
    "Doc A: *“Jupiter is the largest planet”*\n",
    "\n",
    "Doc B: *“Mars is the fourth planet from the sun”*\n",
    "\n",
    "| Term    | TF (A) | TF (B) | IDF           | TF × IDF (A)            | TF × IDF (B) |\n",
    "| ------- | ------ | ------ | ------------- | ----------------------- | ------------ |\n",
    "| jupiter | 1/5    | 0      | log(2/1)=0.69 | ≈ 0.138                 | 0            |\n",
    "| is      | 1/5    | 1/8    | log(2/2)=0    | 0                       | 0            |\n",
    "| the     | 1/5    | 2/8    | log(2/2)=0    | 0                       | 0            |\n",
    "| largest | 1/5    | 0      | log(2/1)=0.69 | ≈ 0.138                 | 0            |\n",
    "| planet  | 1/5    | 1/8    | log(2/2)=0    | 0.138? Actually zero \\* | 0            |\n",
    "| mars    | 0      | 1/8    | log(2/1)=0.69 | 0                       | ≈ 0.086      |\n",
    "| fourth  | 0      | 1/8    | 0.69          | 0                       | ≈ 0.086      |\n",
    "| from    | 0      | 1/8    | 0.69          | 0                       | ≈ 0.086      |\n",
    "| sun     | 0      | 1/8    | 0.69          | 0                       | ≈ 0.086      |\n",
    "\n",
    "This representation allows machine learning models to give more weight to relevant and specific words for each document, improving classification and information retrieval."
   ]
  },
  {
   "cell_type": "code",
   "execution_count": 24,
   "id": "d627b5f8-825d-4c66-896d-d3aa39e7833b",
   "metadata": {},
   "outputs": [
    {
     "name": "stdout",
     "output_type": "stream",
     "text": [
      "\n",
      " **Document 1**:\n",
      "one of the other review ha mention that after watch just 1 oz episod youll be hook they are right as thi is exactli what happen with meth first thing that struck me about oz wa it brutal and unflinch scene of violenc which set in right from the word go trust me thi is not a show for the faint heart or timid thi show pull no punch with regard to drug sex or violenc it is hardcor in the classic use of the wordit is call oz as that is the nicknam given to the oswald maximum secur state penitentari it focus mainli on emerald citi an experiment section of the prison where all the cell have glass front and face inward so privaci is not high on the agenda em citi is home to manyaryan muslim gangsta latino christian italian irish and moreso scuffl death stare dodgi deal and shadi agreement are never far awayi would say the main appeal of the show is due to the fact that it goe where other show wouldnt dare forget pretti pictur paint for mainstream audienc forget charm forget romanceoz doesnt mess around the first episod i ever saw struck me as so nasti it wa surreal i couldnt say i wa readi for it but as i watch more i develop a tast for oz and got accustom to the high level of graphic violenc not just violenc but injustic crook guard wholl be sold out for a nickel inmat wholl kill on order and get away with it well manner middl class inmat be turn into prison bitch due to their lack of street skill or prison experi watch oz you may becom comfort with what is uncomfort viewingthat if you can get in touch with your darker side\n",
      "\n"
     ]
    },
    {
     "data": {
      "text/html": [
       "<div>\n",
       "<style scoped>\n",
       "    .dataframe tbody tr th:only-of-type {\n",
       "        vertical-align: middle;\n",
       "    }\n",
       "\n",
       "    .dataframe tbody tr th {\n",
       "        vertical-align: top;\n",
       "    }\n",
       "\n",
       "    .dataframe thead th {\n",
       "        text-align: right;\n",
       "    }\n",
       "</style>\n",
       "<table border=\"1\" class=\"dataframe\">\n",
       "  <thead>\n",
       "    <tr style=\"text-align: right;\">\n",
       "      <th></th>\n",
       "      <th>Term</th>\n",
       "      <th>TF-IDF Score</th>\n",
       "    </tr>\n",
       "  </thead>\n",
       "  <tbody>\n",
       "    <tr>\n",
       "      <th>0</th>\n",
       "      <td>about oz wa</td>\n",
       "      <td>0.0635</td>\n",
       "    </tr>\n",
       "    <tr>\n",
       "      <th>1</th>\n",
       "      <td>after watch just</td>\n",
       "      <td>0.0635</td>\n",
       "    </tr>\n",
       "    <tr>\n",
       "      <th>2</th>\n",
       "      <td>agenda em</td>\n",
       "      <td>0.0635</td>\n",
       "    </tr>\n",
       "    <tr>\n",
       "      <th>3</th>\n",
       "      <td>agenda em citi</td>\n",
       "      <td>0.0635</td>\n",
       "    </tr>\n",
       "    <tr>\n",
       "      <th>4</th>\n",
       "      <td>agreement are</td>\n",
       "      <td>0.0635</td>\n",
       "    </tr>\n",
       "    <tr>\n",
       "      <th>...</th>\n",
       "      <td>...</td>\n",
       "      <td>...</td>\n",
       "    </tr>\n",
       "    <tr>\n",
       "      <th>243</th>\n",
       "      <td>wordit is call</td>\n",
       "      <td>0.0635</td>\n",
       "    </tr>\n",
       "    <tr>\n",
       "      <th>244</th>\n",
       "      <td>wouldnt dare forget</td>\n",
       "      <td>0.0635</td>\n",
       "    </tr>\n",
       "    <tr>\n",
       "      <th>245</th>\n",
       "      <td>you may becom</td>\n",
       "      <td>0.0635</td>\n",
       "    </tr>\n",
       "    <tr>\n",
       "      <th>246</th>\n",
       "      <td>your darker</td>\n",
       "      <td>0.0635</td>\n",
       "    </tr>\n",
       "    <tr>\n",
       "      <th>247</th>\n",
       "      <td>your darker side</td>\n",
       "      <td>0.0635</td>\n",
       "    </tr>\n",
       "  </tbody>\n",
       "</table>\n",
       "<p>248 rows × 2 columns</p>\n",
       "</div>"
      ],
      "text/plain": [
       "                    Term  TF-IDF Score\n",
       "0            about oz wa        0.0635\n",
       "1       after watch just        0.0635\n",
       "2              agenda em        0.0635\n",
       "3         agenda em citi        0.0635\n",
       "4          agreement are        0.0635\n",
       "..                   ...           ...\n",
       "243       wordit is call        0.0635\n",
       "244  wouldnt dare forget        0.0635\n",
       "245        you may becom        0.0635\n",
       "246          your darker        0.0635\n",
       "247     your darker side        0.0635\n",
       "\n",
       "[248 rows x 2 columns]"
      ]
     },
     "metadata": {},
     "output_type": "display_data"
    },
    {
     "name": "stdout",
     "output_type": "stream",
     "text": [
      "\n",
      " **Document 2**:\n",
      "a wonder littl product the film techniqu is veri unassum veri oldtimebbc fashion and give a comfort and sometim discomfort sens of realism to the entir piec the actor are extrem well chosen michael sheen not onli ha got all the polari but he ha all the voic down pat too you can truli see the seamless edit guid by the refer to william diari entri not onli is it well worth the watch but it is a terrificli written and perform piec a master product about one of the great master of comedi and hi life the realism realli come home with the littl thing the fantasi of the guard which rather than use the tradit dream techniqu remain solid then disappear it play on our knowledg and our sens particularli with the scene concern orton and halliwel and the set particularli of their flat with halliwel mural decor everi surfac are terribl well done\n",
      "\n"
     ]
    },
    {
     "data": {
      "text/html": [
       "<div>\n",
       "<style scoped>\n",
       "    .dataframe tbody tr th:only-of-type {\n",
       "        vertical-align: middle;\n",
       "    }\n",
       "\n",
       "    .dataframe tbody tr th {\n",
       "        vertical-align: top;\n",
       "    }\n",
       "\n",
       "    .dataframe thead th {\n",
       "        text-align: right;\n",
       "    }\n",
       "</style>\n",
       "<table border=\"1\" class=\"dataframe\">\n",
       "  <thead>\n",
       "    <tr style=\"text-align: right;\">\n",
       "      <th></th>\n",
       "      <th>Term</th>\n",
       "      <th>TF-IDF Score</th>\n",
       "    </tr>\n",
       "  </thead>\n",
       "  <tbody>\n",
       "    <tr>\n",
       "      <th>0</th>\n",
       "      <td>actor are extrem</td>\n",
       "      <td>0.090909</td>\n",
       "    </tr>\n",
       "    <tr>\n",
       "      <th>1</th>\n",
       "      <td>all the polari</td>\n",
       "      <td>0.090909</td>\n",
       "    </tr>\n",
       "    <tr>\n",
       "      <th>2</th>\n",
       "      <td>and give comfort</td>\n",
       "      <td>0.090909</td>\n",
       "    </tr>\n",
       "    <tr>\n",
       "      <th>3</th>\n",
       "      <td>and halliwel and</td>\n",
       "      <td>0.090909</td>\n",
       "    </tr>\n",
       "    <tr>\n",
       "      <th>4</th>\n",
       "      <td>and our sens</td>\n",
       "      <td>0.090909</td>\n",
       "    </tr>\n",
       "    <tr>\n",
       "      <th>...</th>\n",
       "      <td>...</td>\n",
       "      <td>...</td>\n",
       "    </tr>\n",
       "    <tr>\n",
       "      <th>116</th>\n",
       "      <td>william diari</td>\n",
       "      <td>0.090909</td>\n",
       "    </tr>\n",
       "    <tr>\n",
       "      <th>117</th>\n",
       "      <td>william diari entri</td>\n",
       "      <td>0.090909</td>\n",
       "    </tr>\n",
       "    <tr>\n",
       "      <th>118</th>\n",
       "      <td>with halliwel</td>\n",
       "      <td>0.090909</td>\n",
       "    </tr>\n",
       "    <tr>\n",
       "      <th>119</th>\n",
       "      <td>with halliwel mural</td>\n",
       "      <td>0.090909</td>\n",
       "    </tr>\n",
       "    <tr>\n",
       "      <th>120</th>\n",
       "      <td>wonder littl product</td>\n",
       "      <td>0.090909</td>\n",
       "    </tr>\n",
       "  </tbody>\n",
       "</table>\n",
       "<p>121 rows × 2 columns</p>\n",
       "</div>"
      ],
      "text/plain": [
       "                     Term  TF-IDF Score\n",
       "0        actor are extrem      0.090909\n",
       "1          all the polari      0.090909\n",
       "2        and give comfort      0.090909\n",
       "3        and halliwel and      0.090909\n",
       "4            and our sens      0.090909\n",
       "..                    ...           ...\n",
       "116         william diari      0.090909\n",
       "117   william diari entri      0.090909\n",
       "118         with halliwel      0.090909\n",
       "119   with halliwel mural      0.090909\n",
       "120  wonder littl product      0.090909\n",
       "\n",
       "[121 rows x 2 columns]"
      ]
     },
     "metadata": {},
     "output_type": "display_data"
    }
   ],
   "source": [
    "# Get Features\n",
    "feature_names = tfidf.get_feature_names_out()\n",
    "\n",
    "# Ex. Docs\n",
    "n_docs = 2\n",
    "\n",
    "tfidf_tables = []\n",
    "\n",
    "for i in range(n_docs):\n",
    "    # i- row\n",
    "    row = tfidf_train_data[i]\n",
    "    row_array = row.toarray().flatten()\n",
    "    \n",
    "    # only terms with TF-IDF > 0\n",
    "    nonzero_indices = row_array.nonzero()[0]\n",
    "    \n",
    "    # Build table doc\n",
    "    terms = [feature_names[j] for j in nonzero_indices]\n",
    "    scores = [row_array[j] for j in nonzero_indices]\n",
    "    \n",
    "    doc_table = pd.DataFrame({\n",
    "        'Term': terms,\n",
    "        'TF-IDF Score': scores\n",
    "    }).sort_values(by='TF-IDF Score', ascending=False)\n",
    "    \n",
    "    print(f\"\\n **Document {i+1}**:\")\n",
    "    print(f\"{n_train_revw.iloc[i]}\\n\")\n",
    "    \n",
    "    # Print Tables\n",
    "    display(doc_table.reset_index(drop=True))\n"
   ]
  },
  {
   "cell_type": "markdown",
   "id": "51e5d731-b3e6-4b46-be04-dbf19706cd55",
   "metadata": {},
   "source": [
    "## 7. Sentiment to Binary form"
   ]
  },
  {
   "cell_type": "code",
   "execution_count": 25,
   "id": "6fcfc3f9-100f-4d61-adf4-a4a3c36b0f1c",
   "metadata": {},
   "outputs": [
    {
     "name": "stdout",
     "output_type": "stream",
     "text": [
      "[[1]\n",
      " [1]\n",
      " [1]\n",
      " ...\n",
      " [0]\n",
      " [0]\n",
      " [0]]\n",
      "(50000, 1)\n"
     ]
    }
   ],
   "source": [
    "binaryx = LabelBinarizer()\n",
    "\n",
    "sentiment_data_binary = binaryx.fit_transform(imdb_dataset['sentiment'])\n",
    "\n",
    "print(sentiment_data_binary)\n",
    "print(sentiment_data_binary.shape)"
   ]
  },
  {
   "cell_type": "markdown",
   "id": "4f991f8d-1878-4768-8eea-b474057651a1",
   "metadata": {},
   "source": [
    "\n",
    "\n",
    "**Labeling Sentiment Data Summary**:\n",
    "this step converts sentiment labels into a binary numeric format using `LabelBinarizer` from `sklearn`. Since machine learning models require numerical input, we transform the sentiment column (originally containing 0 for negative and 1 for positive) into a 2D binary matrix. This ensures compatibility with model training functions. The resulting shape `(50000, 1)` confirms that each review's sentiment is now represented as a binary value in a proper format for further processing.\n",
    "\n",
    "\n",
    "\n",
    "\n"
   ]
  },
  {
   "cell_type": "markdown",
   "id": "677b34d7-66db-4cc4-8ded-e27dd064de11",
   "metadata": {},
   "source": [
    "### 7.1 Binary Sentiment Splitting"
   ]
  },
  {
   "cell_type": "code",
   "execution_count": 26,
   "id": "604c083f-9b05-4aec-ad08-2fa9cfe00349",
   "metadata": {},
   "outputs": [
    {
     "name": "stdout",
     "output_type": "stream",
     "text": [
      "Train Binary Label Sentiments:\n",
      " [[1]\n",
      " [1]\n",
      " [1]\n",
      " ...\n",
      " [1]\n",
      " [0]\n",
      " [0]]\n",
      "Test Binary Label Sentiments:\n",
      " [[0]\n",
      " [0]\n",
      " [0]\n",
      " ...\n",
      " [0]\n",
      " [0]\n",
      " [0]]\n"
     ]
    }
   ],
   "source": [
    "binary_train_sentiments= sentiment_data_binary[:train_size]\n",
    "binary_test_sentiments= sentiment_data_binary[train_size:]\n",
    "\n",
    "print(\"Train Binary Label Sentiments:\\n\", binary_train_sentiments)\n",
    "print(\"Test Binary Label Sentiments:\\n\", binary_test_sentiments)"
   ]
  },
  {
   "cell_type": "markdown",
   "id": "64bc3598-a9c8-48c4-9e81-1a79787bda4f",
   "metadata": {},
   "source": [
    "This code splits the sentiment data into training and testing sets based on 80% for training and 20% for testing.\n",
    "\n",
    "The sentiment_data_binary,  contains the **binarized** sentiment labels, is divided into two parts:\n",
    "\n",
    "        binary_train_sentiments: \n",
    "This variable stores the entries corresponding to 80% of the data, which will be used to train the model.\n",
    "\n",
    "        binary_test_sentiments: \n",
    "This variable stores the remaining entries (20% of the data), which will be used to test the model's performance."
   ]
  },
  {
   "cell_type": "markdown",
   "id": "6008eb2e-12d4-4d90-8b22-54bdbdeb2376",
   "metadata": {},
   "source": [
    "## 8. Classification Algorithms & Data Modelling "
   ]
  },
  {
   "cell_type": "markdown",
   "id": "80362c0c-9fe5-4092-8791-0f6f214a5a39",
   "metadata": {},
   "source": [
    "In this section, we will apply various **machine learning classification algorithms** to the preprocessed text data in order to predict the sentiment of movie reviews. \n",
    "\n",
    "We will train and evaluate models such as **Logistic Regression** and **Multinomial Naive Bayes** using TF-IDF features. The performance of each model will be assessed using metrics like accuracy, precision, recall, and F1-score to determine the most effective approach for sentiment classification."
   ]
  },
  {
   "cell_type": "markdown",
   "id": "e13616b3-2164-48aa-8a75-8720431f72ca",
   "metadata": {},
   "source": [
    "### 8.1 Logistic Regression"
   ]
  },
  {
   "cell_type": "markdown",
   "id": "076d3360-3a03-48f2-a722-3d31aadd3867",
   "metadata": {},
   "source": [
    "aggiungere def logistic regression, successivamente e ripassarla...."
   ]
  },
  {
   "cell_type": "markdown",
   "id": "a44173b5-7178-4024-a4ff-967c63f7e8b5",
   "metadata": {},
   "source": [
    "#### 8.1.1 Logistic Regression train model with 80% of data"
   ]
  },
  {
   "cell_type": "code",
   "execution_count": 27,
   "id": "f0fa0bc4-fe5c-4ea5-88c4-fadd4719c548",
   "metadata": {},
   "outputs": [],
   "source": [
    "#Import\n",
    "from sklearn.linear_model import LogisticRegression\n",
    "\n",
    "# def. the Logistic Regression model\n",
    "lr_bow = LogisticRegression()\n",
    "\n",
    "#Train Logistic Regression model for BoW\n",
    "Log_R_bow = lr_bow.fit(vector_train_rev,binary_train_sentiments)\n",
    "\n",
    "lr_tfidf = LogisticRegression()\n",
    "\n",
    "#Train Logistic Regression model for tfidf\n",
    "Log_R_tfidf = lr_tfidf.fit(tfidf_train_data,binary_train_sentiments)"
   ]
  },
  {
   "cell_type": "markdown",
   "id": "67abb3e3-7ed2-478f-b74d-113e1f57bcac",
   "metadata": {},
   "source": [
    "#### 8.1.2 Logistic Regression prediction on test data (20%) After Training : TF-IDF"
   ]
  },
  {
   "cell_type": "code",
   "execution_count": 35,
   "id": "4ea2be32-8d44-4535-9e5a-5fdb4d616cc7",
   "metadata": {},
   "outputs": [
    {
     "data": {
      "text/html": [
       "<style type=\"text/css\">\n",
       "#T_b8806_row0_col0, #T_b8806_row0_col1, #T_b8806_row0_col2, #T_b8806_row0_col3, #T_b8806_row12_col0, #T_b8806_row12_col1, #T_b8806_row12_col2, #T_b8806_row12_col3, #T_b8806_row13_col0, #T_b8806_row13_col1, #T_b8806_row13_col2, #T_b8806_row13_col3, #T_b8806_row15_col0, #T_b8806_row15_col1, #T_b8806_row15_col2, #T_b8806_row15_col3, #T_b8806_row18_col0, #T_b8806_row18_col1, #T_b8806_row18_col2, #T_b8806_row18_col3 {\n",
       "  background-color: #f8d7da;\n",
       "}\n",
       "#T_b8806_row1_col0, #T_b8806_row1_col1, #T_b8806_row1_col2, #T_b8806_row1_col3, #T_b8806_row2_col0, #T_b8806_row2_col1, #T_b8806_row2_col2, #T_b8806_row2_col3, #T_b8806_row3_col0, #T_b8806_row3_col1, #T_b8806_row3_col2, #T_b8806_row3_col3, #T_b8806_row4_col0, #T_b8806_row4_col1, #T_b8806_row4_col2, #T_b8806_row4_col3, #T_b8806_row5_col0, #T_b8806_row5_col1, #T_b8806_row5_col2, #T_b8806_row5_col3, #T_b8806_row6_col0, #T_b8806_row6_col1, #T_b8806_row6_col2, #T_b8806_row6_col3, #T_b8806_row7_col0, #T_b8806_row7_col1, #T_b8806_row7_col2, #T_b8806_row7_col3, #T_b8806_row8_col0, #T_b8806_row8_col1, #T_b8806_row8_col2, #T_b8806_row8_col3, #T_b8806_row9_col0, #T_b8806_row9_col1, #T_b8806_row9_col2, #T_b8806_row9_col3, #T_b8806_row10_col0, #T_b8806_row10_col1, #T_b8806_row10_col2, #T_b8806_row10_col3, #T_b8806_row11_col0, #T_b8806_row11_col1, #T_b8806_row11_col2, #T_b8806_row11_col3, #T_b8806_row14_col0, #T_b8806_row14_col1, #T_b8806_row14_col2, #T_b8806_row14_col3, #T_b8806_row16_col0, #T_b8806_row16_col1, #T_b8806_row16_col2, #T_b8806_row16_col3, #T_b8806_row17_col0, #T_b8806_row17_col1, #T_b8806_row17_col2, #T_b8806_row17_col3, #T_b8806_row19_col0, #T_b8806_row19_col1, #T_b8806_row19_col2, #T_b8806_row19_col3 {\n",
       "  background-color: #d4edda;\n",
       "}\n",
       "</style>\n",
       "<table id=\"T_b8806\">\n",
       "  <thead>\n",
       "    <tr>\n",
       "      <th class=\"blank level0\" >&nbsp;</th>\n",
       "      <th id=\"T_b8806_level0_col0\" class=\"col_heading level0 col0\" >Review</th>\n",
       "      <th id=\"T_b8806_level0_col1\" class=\"col_heading level0 col1\" >True Label</th>\n",
       "      <th id=\"T_b8806_level0_col2\" class=\"col_heading level0 col2\" >Predicted Label</th>\n",
       "      <th id=\"T_b8806_level0_col3\" class=\"col_heading level0 col3\" >Correct</th>\n",
       "    </tr>\n",
       "  </thead>\n",
       "  <tbody>\n",
       "    <tr>\n",
       "      <th id=\"T_b8806_level0_row0\" class=\"row_heading level0 row0\" >40000</th>\n",
       "      <td id=\"T_b8806_row0_col0\" class=\"data row0 col0\" >first off i want to say that i lean liber on the polit scale and i found the movi offens i manag to ...</td>\n",
       "      <td id=\"T_b8806_row0_col1\" class=\"data row0 col1\" >negative</td>\n",
       "      <td id=\"T_b8806_row0_col2\" class=\"data row0 col2\" >positive</td>\n",
       "      <td id=\"T_b8806_row0_col3\" class=\"data row0 col3\" >False</td>\n",
       "    </tr>\n",
       "    <tr>\n",
       "      <th id=\"T_b8806_level0_row1\" class=\"row_heading level0 row1\" >40001</th>\n",
       "      <td id=\"T_b8806_row1_col0\" class=\"data row1 col0\" >i wa excit to see a sitcom that would hope repres indian candian but i found thi show to be not funn...</td>\n",
       "      <td id=\"T_b8806_row1_col1\" class=\"data row1 col1\" >negative</td>\n",
       "      <td id=\"T_b8806_row1_col2\" class=\"data row1 col2\" >negative</td>\n",
       "      <td id=\"T_b8806_row1_col3\" class=\"data row1 col3\" >True</td>\n",
       "    </tr>\n",
       "    <tr>\n",
       "      <th id=\"T_b8806_level0_row2\" class=\"row_heading level0 row2\" >40002</th>\n",
       "      <td id=\"T_b8806_row2_col0\" class=\"data row2 col0\" >when you look at the cover and read stuff about it an entir differ type of movi come to mind than wh...</td>\n",
       "      <td id=\"T_b8806_row2_col1\" class=\"data row2 col1\" >negative</td>\n",
       "      <td id=\"T_b8806_row2_col2\" class=\"data row2 col2\" >negative</td>\n",
       "      <td id=\"T_b8806_row2_col3\" class=\"data row2 col3\" >True</td>\n",
       "    </tr>\n",
       "    <tr>\n",
       "      <th id=\"T_b8806_level0_row3\" class=\"row_heading level0 row3\" >40003</th>\n",
       "      <td id=\"T_b8806_row3_col0\" class=\"data row3 col0\" >like mani other i count on the appear of denni hopper to make thi not a complet wast of time i wa sa...</td>\n",
       "      <td id=\"T_b8806_row3_col1\" class=\"data row3 col1\" >negative</td>\n",
       "      <td id=\"T_b8806_row3_col2\" class=\"data row3 col2\" >negative</td>\n",
       "      <td id=\"T_b8806_row3_col3\" class=\"data row3 col3\" >True</td>\n",
       "    </tr>\n",
       "    <tr>\n",
       "      <th id=\"T_b8806_level0_row4\" class=\"row_heading level0 row4\" >40004</th>\n",
       "      <td id=\"T_b8806_row4_col0\" class=\"data row4 col0\" >thi movi wa on tv the other day and i didnt enjoy it at all the first georg of the jungl wa a good c...</td>\n",
       "      <td id=\"T_b8806_row4_col1\" class=\"data row4 col1\" >negative</td>\n",
       "      <td id=\"T_b8806_row4_col2\" class=\"data row4 col2\" >negative</td>\n",
       "      <td id=\"T_b8806_row4_col3\" class=\"data row4 col3\" >True</td>\n",
       "    </tr>\n",
       "    <tr>\n",
       "      <th id=\"T_b8806_level0_row5\" class=\"row_heading level0 row5\" >40005</th>\n",
       "      <td id=\"T_b8806_row5_col0\" class=\"data row5 col0\" >hickori dickori dock wa a good poirot mysteri i confess i have not read the book despit be an avid a...</td>\n",
       "      <td id=\"T_b8806_row5_col1\" class=\"data row5 col1\" >positive</td>\n",
       "      <td id=\"T_b8806_row5_col2\" class=\"data row5 col2\" >positive</td>\n",
       "      <td id=\"T_b8806_row5_col3\" class=\"data row5 col3\" >True</td>\n",
       "    </tr>\n",
       "    <tr>\n",
       "      <th id=\"T_b8806_level0_row6\" class=\"row_heading level0 row6\" >40006</th>\n",
       "      <td id=\"T_b8806_row6_col0\" class=\"data row6 col0\" >one crazi summer is the funniest craziest not necessarili the best movi i have ever seenjust when on...</td>\n",
       "      <td id=\"T_b8806_row6_col1\" class=\"data row6 col1\" >positive</td>\n",
       "      <td id=\"T_b8806_row6_col2\" class=\"data row6 col2\" >positive</td>\n",
       "      <td id=\"T_b8806_row6_col3\" class=\"data row6 col3\" >True</td>\n",
       "    </tr>\n",
       "    <tr>\n",
       "      <th id=\"T_b8806_level0_row7\" class=\"row_heading level0 row7\" >40007</th>\n",
       "      <td id=\"T_b8806_row7_col0\" class=\"data row7 col0\" >lowbudget schlockmeist herschel gordon lewi reach a new low even for him with the gore gore girl a f...</td>\n",
       "      <td id=\"T_b8806_row7_col1\" class=\"data row7 col1\" >negative</td>\n",
       "      <td id=\"T_b8806_row7_col2\" class=\"data row7 col2\" >negative</td>\n",
       "      <td id=\"T_b8806_row7_col3\" class=\"data row7 col3\" >True</td>\n",
       "    </tr>\n",
       "    <tr>\n",
       "      <th id=\"T_b8806_level0_row8\" class=\"row_heading level0 row8\" >40008</th>\n",
       "      <td id=\"T_b8806_row8_col0\" class=\"data row8 col0\" >thi wa absolut the most tragic pile of cinema to which i have ever born wit not onli wa the name a c...</td>\n",
       "      <td id=\"T_b8806_row8_col1\" class=\"data row8 col1\" >negative</td>\n",
       "      <td id=\"T_b8806_row8_col2\" class=\"data row8 col2\" >negative</td>\n",
       "      <td id=\"T_b8806_row8_col3\" class=\"data row8 col3\" >True</td>\n",
       "    </tr>\n",
       "    <tr>\n",
       "      <th id=\"T_b8806_level0_row9\" class=\"row_heading level0 row9\" >40009</th>\n",
       "      <td id=\"T_b8806_row9_col0\" class=\"data row9 col0\" >i have never understood the appeal of thi show the act is poor debra jo rupp be a notabl except the ...</td>\n",
       "      <td id=\"T_b8806_row9_col1\" class=\"data row9 col1\" >negative</td>\n",
       "      <td id=\"T_b8806_row9_col2\" class=\"data row9 col2\" >negative</td>\n",
       "      <td id=\"T_b8806_row9_col3\" class=\"data row9 col3\" >True</td>\n",
       "    </tr>\n",
       "    <tr>\n",
       "      <th id=\"T_b8806_level0_row10\" class=\"row_heading level0 row10\" >40010</th>\n",
       "      <td id=\"T_b8806_row10_col0\" class=\"data row10 col0\" >mr bug goe to town wa the last major achiev the fleischer studio produc the qualiti of the superman ...</td>\n",
       "      <td id=\"T_b8806_row10_col1\" class=\"data row10 col1\" >positive</td>\n",
       "      <td id=\"T_b8806_row10_col2\" class=\"data row10 col2\" >positive</td>\n",
       "      <td id=\"T_b8806_row10_col3\" class=\"data row10 col3\" >True</td>\n",
       "    </tr>\n",
       "    <tr>\n",
       "      <th id=\"T_b8806_level0_row11\" class=\"row_heading level0 row11\" >40011</th>\n",
       "      <td id=\"T_b8806_row11_col0\" class=\"data row11 col0\" >thi is one of my two or three favorit stoog short and undoubtedli christin mcintyr best perform with...</td>\n",
       "      <td id=\"T_b8806_row11_col1\" class=\"data row11 col1\" >positive</td>\n",
       "      <td id=\"T_b8806_row11_col2\" class=\"data row11 col2\" >positive</td>\n",
       "      <td id=\"T_b8806_row11_col3\" class=\"data row11 col3\" >True</td>\n",
       "    </tr>\n",
       "    <tr>\n",
       "      <th id=\"T_b8806_level0_row12\" class=\"row_heading level0 row12\" >40012</th>\n",
       "      <td id=\"T_b8806_row12_col0\" class=\"data row12 col0\" >thi is suppos to be base on wilki collin _the_woman_in_white_ but the onli resembl it bore to that s...</td>\n",
       "      <td id=\"T_b8806_row12_col1\" class=\"data row12 col1\" >negative</td>\n",
       "      <td id=\"T_b8806_row12_col2\" class=\"data row12 col2\" >positive</td>\n",
       "      <td id=\"T_b8806_row12_col3\" class=\"data row12 col3\" >False</td>\n",
       "    </tr>\n",
       "    <tr>\n",
       "      <th id=\"T_b8806_level0_row13\" class=\"row_heading level0 row13\" >40013</th>\n",
       "      <td id=\"T_b8806_row13_col0\" class=\"data row13 col0\" >of all the british imperialist movi like four feather charg of the light brigad for exampl thi movi ...</td>\n",
       "      <td id=\"T_b8806_row13_col1\" class=\"data row13 col1\" >positive</td>\n",
       "      <td id=\"T_b8806_row13_col2\" class=\"data row13 col2\" >negative</td>\n",
       "      <td id=\"T_b8806_row13_col3\" class=\"data row13 col3\" >False</td>\n",
       "    </tr>\n",
       "    <tr>\n",
       "      <th id=\"T_b8806_level0_row14\" class=\"row_heading level0 row14\" >40014</th>\n",
       "      <td id=\"T_b8806_row14_col0\" class=\"data row14 col0\" >jame cagney racket and polit ward heeler get to becom a deputi commission of correct and visit a boy...</td>\n",
       "      <td id=\"T_b8806_row14_col1\" class=\"data row14 col1\" >positive</td>\n",
       "      <td id=\"T_b8806_row14_col2\" class=\"data row14 col2\" >positive</td>\n",
       "      <td id=\"T_b8806_row14_col3\" class=\"data row14 col3\" >True</td>\n",
       "    </tr>\n",
       "    <tr>\n",
       "      <th id=\"T_b8806_level0_row15\" class=\"row_heading level0 row15\" >40015</th>\n",
       "      <td id=\"T_b8806_row15_col0\" class=\"data row15 col0\" >i love thi film not be a swoon ed wood jr fan i prefer to appreci hi boundless enthusiasm and acknow...</td>\n",
       "      <td id=\"T_b8806_row15_col1\" class=\"data row15 col1\" >positive</td>\n",
       "      <td id=\"T_b8806_row15_col2\" class=\"data row15 col2\" >negative</td>\n",
       "      <td id=\"T_b8806_row15_col3\" class=\"data row15 col3\" >False</td>\n",
       "    </tr>\n",
       "    <tr>\n",
       "      <th id=\"T_b8806_level0_row16\" class=\"row_heading level0 row16\" >40016</th>\n",
       "      <td id=\"T_b8806_row16_col0\" class=\"data row16 col0\" >have alreadi seen the origin jack frost i never thought that jack frost 2 would be as absurd as it i...</td>\n",
       "      <td id=\"T_b8806_row16_col1\" class=\"data row16 col1\" >negative</td>\n",
       "      <td id=\"T_b8806_row16_col2\" class=\"data row16 col2\" >negative</td>\n",
       "      <td id=\"T_b8806_row16_col3\" class=\"data row16 col3\" >True</td>\n",
       "    </tr>\n",
       "    <tr>\n",
       "      <th id=\"T_b8806_level0_row17\" class=\"row_heading level0 row17\" >40017</th>\n",
       "      <td id=\"T_b8806_row17_col0\" class=\"data row17 col0\" >i had been subject to thi movi for a relationship class in my school as figur it wa noth captiv and ...</td>\n",
       "      <td id=\"T_b8806_row17_col1\" class=\"data row17 col1\" >negative</td>\n",
       "      <td id=\"T_b8806_row17_col2\" class=\"data row17 col2\" >negative</td>\n",
       "      <td id=\"T_b8806_row17_col3\" class=\"data row17 col3\" >True</td>\n",
       "    </tr>\n",
       "    <tr>\n",
       "      <th id=\"T_b8806_level0_row18\" class=\"row_heading level0 row18\" >40018</th>\n",
       "      <td id=\"T_b8806_row18_col0\" class=\"data row18 col0\" >thi movi is stuf full of stock horror movi goodi chain lunat premedit murder a mad vagu lesbian fema...</td>\n",
       "      <td id=\"T_b8806_row18_col1\" class=\"data row18 col1\" >positive</td>\n",
       "      <td id=\"T_b8806_row18_col2\" class=\"data row18 col2\" >negative</td>\n",
       "      <td id=\"T_b8806_row18_col3\" class=\"data row18 col3\" >False</td>\n",
       "    </tr>\n",
       "    <tr>\n",
       "      <th id=\"T_b8806_level0_row19\" class=\"row_heading level0 row19\" >40019</th>\n",
       "      <td id=\"T_b8806_row19_col0\" class=\"data row19 col0\" >there are time when finish a film one wish to have a refund for the time just spent thi wa one of th...</td>\n",
       "      <td id=\"T_b8806_row19_col1\" class=\"data row19 col1\" >negative</td>\n",
       "      <td id=\"T_b8806_row19_col2\" class=\"data row19 col2\" >negative</td>\n",
       "      <td id=\"T_b8806_row19_col3\" class=\"data row19 col3\" >True</td>\n",
       "    </tr>\n",
       "  </tbody>\n",
       "</table>\n"
      ],
      "text/plain": [
       "<pandas.io.formats.style.Styler at 0x232357ea870>"
      ]
     },
     "metadata": {},
     "output_type": "display_data"
    }
   ],
   "source": [
    "from IPython.display import display, HTML\n",
    "\n",
    "#Predict for Tfidf features\n",
    "Log_R_tfidf_predict = lr_tfidf.predict(tfidf_test_data)\n",
    "\n",
    "n_examples = 20\n",
    "\n",
    "#label_map = {'positive': 1, 'negative': 0}\n",
    "reverse_label_map = {1: 'positive', 0: 'negative'}\n",
    "\n",
    "results_df = pd.DataFrame({\n",
    "    'Review': X_test.iloc[:n_examples].apply(lambda x: x[:100] + '...'),\n",
    "    #'True Label': Y_test.iloc[:n_examples].map(label_map).values,\n",
    "    'True Label': Y_test.iloc[:n_examples].values,\n",
    "    #'Predicted Label': Log_R_tfidf_predict[:n_examples] \n",
    "    'Predicted Label': [reverse_label_map[p] for p in Log_R_tfidf_predict[:n_examples]]\n",
    "})\n",
    "\n",
    "results_df['Correct'] = results_df['True Label'] == results_df['Predicted Label']\n",
    "\n",
    "def color_row(row):\n",
    "    color = 'background-color: #d4edda' if row['Correct'] else 'background-color: #f8d7da'\n",
    "    return [color] * len(row)\n",
    "\n",
    "styled_df = results_df.style.apply(color_row, axis=1)\n",
    "display(styled_df)\n",
    "\n",
    "\n",
    "\n"
   ]
  },
  {
   "cell_type": "markdown",
   "id": "ed9fe278-39ea-4173-a5ae-7f63dc3ea9dc",
   "metadata": {},
   "source": [
    "#### 8.1.3 Logistic Regression prediction on test data (20%) After Training : BoW"
   ]
  },
  {
   "cell_type": "code",
   "execution_count": 36,
   "id": "0c780609-47b7-4138-8e40-1385ef3029ad",
   "metadata": {},
   "outputs": [
    {
     "data": {
      "text/html": [
       "<style type=\"text/css\">\n",
       "#T_dfdfd_row0_col0, #T_dfdfd_row0_col1, #T_dfdfd_row0_col2, #T_dfdfd_row0_col3, #T_dfdfd_row1_col0, #T_dfdfd_row1_col1, #T_dfdfd_row1_col2, #T_dfdfd_row1_col3, #T_dfdfd_row2_col0, #T_dfdfd_row2_col1, #T_dfdfd_row2_col2, #T_dfdfd_row2_col3, #T_dfdfd_row3_col0, #T_dfdfd_row3_col1, #T_dfdfd_row3_col2, #T_dfdfd_row3_col3, #T_dfdfd_row4_col0, #T_dfdfd_row4_col1, #T_dfdfd_row4_col2, #T_dfdfd_row4_col3, #T_dfdfd_row5_col0, #T_dfdfd_row5_col1, #T_dfdfd_row5_col2, #T_dfdfd_row5_col3, #T_dfdfd_row7_col0, #T_dfdfd_row7_col1, #T_dfdfd_row7_col2, #T_dfdfd_row7_col3, #T_dfdfd_row8_col0, #T_dfdfd_row8_col1, #T_dfdfd_row8_col2, #T_dfdfd_row8_col3, #T_dfdfd_row9_col0, #T_dfdfd_row9_col1, #T_dfdfd_row9_col2, #T_dfdfd_row9_col3, #T_dfdfd_row10_col0, #T_dfdfd_row10_col1, #T_dfdfd_row10_col2, #T_dfdfd_row10_col3, #T_dfdfd_row11_col0, #T_dfdfd_row11_col1, #T_dfdfd_row11_col2, #T_dfdfd_row11_col3, #T_dfdfd_row12_col0, #T_dfdfd_row12_col1, #T_dfdfd_row12_col2, #T_dfdfd_row12_col3, #T_dfdfd_row14_col0, #T_dfdfd_row14_col1, #T_dfdfd_row14_col2, #T_dfdfd_row14_col3, #T_dfdfd_row16_col0, #T_dfdfd_row16_col1, #T_dfdfd_row16_col2, #T_dfdfd_row16_col3, #T_dfdfd_row17_col0, #T_dfdfd_row17_col1, #T_dfdfd_row17_col2, #T_dfdfd_row17_col3, #T_dfdfd_row19_col0, #T_dfdfd_row19_col1, #T_dfdfd_row19_col2, #T_dfdfd_row19_col3 {\n",
       "  background-color: #d4edda;\n",
       "}\n",
       "#T_dfdfd_row6_col0, #T_dfdfd_row6_col1, #T_dfdfd_row6_col2, #T_dfdfd_row6_col3, #T_dfdfd_row13_col0, #T_dfdfd_row13_col1, #T_dfdfd_row13_col2, #T_dfdfd_row13_col3, #T_dfdfd_row15_col0, #T_dfdfd_row15_col1, #T_dfdfd_row15_col2, #T_dfdfd_row15_col3, #T_dfdfd_row18_col0, #T_dfdfd_row18_col1, #T_dfdfd_row18_col2, #T_dfdfd_row18_col3 {\n",
       "  background-color: #f8d7da;\n",
       "}\n",
       "</style>\n",
       "<table id=\"T_dfdfd\">\n",
       "  <thead>\n",
       "    <tr>\n",
       "      <th class=\"blank level0\" >&nbsp;</th>\n",
       "      <th id=\"T_dfdfd_level0_col0\" class=\"col_heading level0 col0\" >Review</th>\n",
       "      <th id=\"T_dfdfd_level0_col1\" class=\"col_heading level0 col1\" >True Label</th>\n",
       "      <th id=\"T_dfdfd_level0_col2\" class=\"col_heading level0 col2\" >Predicted Label</th>\n",
       "      <th id=\"T_dfdfd_level0_col3\" class=\"col_heading level0 col3\" >Correct</th>\n",
       "    </tr>\n",
       "  </thead>\n",
       "  <tbody>\n",
       "    <tr>\n",
       "      <th id=\"T_dfdfd_level0_row0\" class=\"row_heading level0 row0\" >40000</th>\n",
       "      <td id=\"T_dfdfd_row0_col0\" class=\"data row0 col0\" >first off i want to say that i lean liber on the polit scale and i found the movi offens i manag to ...</td>\n",
       "      <td id=\"T_dfdfd_row0_col1\" class=\"data row0 col1\" >negative</td>\n",
       "      <td id=\"T_dfdfd_row0_col2\" class=\"data row0 col2\" >negative</td>\n",
       "      <td id=\"T_dfdfd_row0_col3\" class=\"data row0 col3\" >True</td>\n",
       "    </tr>\n",
       "    <tr>\n",
       "      <th id=\"T_dfdfd_level0_row1\" class=\"row_heading level0 row1\" >40001</th>\n",
       "      <td id=\"T_dfdfd_row1_col0\" class=\"data row1 col0\" >i wa excit to see a sitcom that would hope repres indian candian but i found thi show to be not funn...</td>\n",
       "      <td id=\"T_dfdfd_row1_col1\" class=\"data row1 col1\" >negative</td>\n",
       "      <td id=\"T_dfdfd_row1_col2\" class=\"data row1 col2\" >negative</td>\n",
       "      <td id=\"T_dfdfd_row1_col3\" class=\"data row1 col3\" >True</td>\n",
       "    </tr>\n",
       "    <tr>\n",
       "      <th id=\"T_dfdfd_level0_row2\" class=\"row_heading level0 row2\" >40002</th>\n",
       "      <td id=\"T_dfdfd_row2_col0\" class=\"data row2 col0\" >when you look at the cover and read stuff about it an entir differ type of movi come to mind than wh...</td>\n",
       "      <td id=\"T_dfdfd_row2_col1\" class=\"data row2 col1\" >negative</td>\n",
       "      <td id=\"T_dfdfd_row2_col2\" class=\"data row2 col2\" >negative</td>\n",
       "      <td id=\"T_dfdfd_row2_col3\" class=\"data row2 col3\" >True</td>\n",
       "    </tr>\n",
       "    <tr>\n",
       "      <th id=\"T_dfdfd_level0_row3\" class=\"row_heading level0 row3\" >40003</th>\n",
       "      <td id=\"T_dfdfd_row3_col0\" class=\"data row3 col0\" >like mani other i count on the appear of denni hopper to make thi not a complet wast of time i wa sa...</td>\n",
       "      <td id=\"T_dfdfd_row3_col1\" class=\"data row3 col1\" >negative</td>\n",
       "      <td id=\"T_dfdfd_row3_col2\" class=\"data row3 col2\" >negative</td>\n",
       "      <td id=\"T_dfdfd_row3_col3\" class=\"data row3 col3\" >True</td>\n",
       "    </tr>\n",
       "    <tr>\n",
       "      <th id=\"T_dfdfd_level0_row4\" class=\"row_heading level0 row4\" >40004</th>\n",
       "      <td id=\"T_dfdfd_row4_col0\" class=\"data row4 col0\" >thi movi wa on tv the other day and i didnt enjoy it at all the first georg of the jungl wa a good c...</td>\n",
       "      <td id=\"T_dfdfd_row4_col1\" class=\"data row4 col1\" >negative</td>\n",
       "      <td id=\"T_dfdfd_row4_col2\" class=\"data row4 col2\" >negative</td>\n",
       "      <td id=\"T_dfdfd_row4_col3\" class=\"data row4 col3\" >True</td>\n",
       "    </tr>\n",
       "    <tr>\n",
       "      <th id=\"T_dfdfd_level0_row5\" class=\"row_heading level0 row5\" >40005</th>\n",
       "      <td id=\"T_dfdfd_row5_col0\" class=\"data row5 col0\" >hickori dickori dock wa a good poirot mysteri i confess i have not read the book despit be an avid a...</td>\n",
       "      <td id=\"T_dfdfd_row5_col1\" class=\"data row5 col1\" >positive</td>\n",
       "      <td id=\"T_dfdfd_row5_col2\" class=\"data row5 col2\" >positive</td>\n",
       "      <td id=\"T_dfdfd_row5_col3\" class=\"data row5 col3\" >True</td>\n",
       "    </tr>\n",
       "    <tr>\n",
       "      <th id=\"T_dfdfd_level0_row6\" class=\"row_heading level0 row6\" >40006</th>\n",
       "      <td id=\"T_dfdfd_row6_col0\" class=\"data row6 col0\" >one crazi summer is the funniest craziest not necessarili the best movi i have ever seenjust when on...</td>\n",
       "      <td id=\"T_dfdfd_row6_col1\" class=\"data row6 col1\" >positive</td>\n",
       "      <td id=\"T_dfdfd_row6_col2\" class=\"data row6 col2\" >negative</td>\n",
       "      <td id=\"T_dfdfd_row6_col3\" class=\"data row6 col3\" >False</td>\n",
       "    </tr>\n",
       "    <tr>\n",
       "      <th id=\"T_dfdfd_level0_row7\" class=\"row_heading level0 row7\" >40007</th>\n",
       "      <td id=\"T_dfdfd_row7_col0\" class=\"data row7 col0\" >lowbudget schlockmeist herschel gordon lewi reach a new low even for him with the gore gore girl a f...</td>\n",
       "      <td id=\"T_dfdfd_row7_col1\" class=\"data row7 col1\" >negative</td>\n",
       "      <td id=\"T_dfdfd_row7_col2\" class=\"data row7 col2\" >negative</td>\n",
       "      <td id=\"T_dfdfd_row7_col3\" class=\"data row7 col3\" >True</td>\n",
       "    </tr>\n",
       "    <tr>\n",
       "      <th id=\"T_dfdfd_level0_row8\" class=\"row_heading level0 row8\" >40008</th>\n",
       "      <td id=\"T_dfdfd_row8_col0\" class=\"data row8 col0\" >thi wa absolut the most tragic pile of cinema to which i have ever born wit not onli wa the name a c...</td>\n",
       "      <td id=\"T_dfdfd_row8_col1\" class=\"data row8 col1\" >negative</td>\n",
       "      <td id=\"T_dfdfd_row8_col2\" class=\"data row8 col2\" >negative</td>\n",
       "      <td id=\"T_dfdfd_row8_col3\" class=\"data row8 col3\" >True</td>\n",
       "    </tr>\n",
       "    <tr>\n",
       "      <th id=\"T_dfdfd_level0_row9\" class=\"row_heading level0 row9\" >40009</th>\n",
       "      <td id=\"T_dfdfd_row9_col0\" class=\"data row9 col0\" >i have never understood the appeal of thi show the act is poor debra jo rupp be a notabl except the ...</td>\n",
       "      <td id=\"T_dfdfd_row9_col1\" class=\"data row9 col1\" >negative</td>\n",
       "      <td id=\"T_dfdfd_row9_col2\" class=\"data row9 col2\" >negative</td>\n",
       "      <td id=\"T_dfdfd_row9_col3\" class=\"data row9 col3\" >True</td>\n",
       "    </tr>\n",
       "    <tr>\n",
       "      <th id=\"T_dfdfd_level0_row10\" class=\"row_heading level0 row10\" >40010</th>\n",
       "      <td id=\"T_dfdfd_row10_col0\" class=\"data row10 col0\" >mr bug goe to town wa the last major achiev the fleischer studio produc the qualiti of the superman ...</td>\n",
       "      <td id=\"T_dfdfd_row10_col1\" class=\"data row10 col1\" >positive</td>\n",
       "      <td id=\"T_dfdfd_row10_col2\" class=\"data row10 col2\" >positive</td>\n",
       "      <td id=\"T_dfdfd_row10_col3\" class=\"data row10 col3\" >True</td>\n",
       "    </tr>\n",
       "    <tr>\n",
       "      <th id=\"T_dfdfd_level0_row11\" class=\"row_heading level0 row11\" >40011</th>\n",
       "      <td id=\"T_dfdfd_row11_col0\" class=\"data row11 col0\" >thi is one of my two or three favorit stoog short and undoubtedli christin mcintyr best perform with...</td>\n",
       "      <td id=\"T_dfdfd_row11_col1\" class=\"data row11 col1\" >positive</td>\n",
       "      <td id=\"T_dfdfd_row11_col2\" class=\"data row11 col2\" >positive</td>\n",
       "      <td id=\"T_dfdfd_row11_col3\" class=\"data row11 col3\" >True</td>\n",
       "    </tr>\n",
       "    <tr>\n",
       "      <th id=\"T_dfdfd_level0_row12\" class=\"row_heading level0 row12\" >40012</th>\n",
       "      <td id=\"T_dfdfd_row12_col0\" class=\"data row12 col0\" >thi is suppos to be base on wilki collin _the_woman_in_white_ but the onli resembl it bore to that s...</td>\n",
       "      <td id=\"T_dfdfd_row12_col1\" class=\"data row12 col1\" >negative</td>\n",
       "      <td id=\"T_dfdfd_row12_col2\" class=\"data row12 col2\" >negative</td>\n",
       "      <td id=\"T_dfdfd_row12_col3\" class=\"data row12 col3\" >True</td>\n",
       "    </tr>\n",
       "    <tr>\n",
       "      <th id=\"T_dfdfd_level0_row13\" class=\"row_heading level0 row13\" >40013</th>\n",
       "      <td id=\"T_dfdfd_row13_col0\" class=\"data row13 col0\" >of all the british imperialist movi like four feather charg of the light brigad for exampl thi movi ...</td>\n",
       "      <td id=\"T_dfdfd_row13_col1\" class=\"data row13 col1\" >positive</td>\n",
       "      <td id=\"T_dfdfd_row13_col2\" class=\"data row13 col2\" >negative</td>\n",
       "      <td id=\"T_dfdfd_row13_col3\" class=\"data row13 col3\" >False</td>\n",
       "    </tr>\n",
       "    <tr>\n",
       "      <th id=\"T_dfdfd_level0_row14\" class=\"row_heading level0 row14\" >40014</th>\n",
       "      <td id=\"T_dfdfd_row14_col0\" class=\"data row14 col0\" >jame cagney racket and polit ward heeler get to becom a deputi commission of correct and visit a boy...</td>\n",
       "      <td id=\"T_dfdfd_row14_col1\" class=\"data row14 col1\" >positive</td>\n",
       "      <td id=\"T_dfdfd_row14_col2\" class=\"data row14 col2\" >positive</td>\n",
       "      <td id=\"T_dfdfd_row14_col3\" class=\"data row14 col3\" >True</td>\n",
       "    </tr>\n",
       "    <tr>\n",
       "      <th id=\"T_dfdfd_level0_row15\" class=\"row_heading level0 row15\" >40015</th>\n",
       "      <td id=\"T_dfdfd_row15_col0\" class=\"data row15 col0\" >i love thi film not be a swoon ed wood jr fan i prefer to appreci hi boundless enthusiasm and acknow...</td>\n",
       "      <td id=\"T_dfdfd_row15_col1\" class=\"data row15 col1\" >positive</td>\n",
       "      <td id=\"T_dfdfd_row15_col2\" class=\"data row15 col2\" >negative</td>\n",
       "      <td id=\"T_dfdfd_row15_col3\" class=\"data row15 col3\" >False</td>\n",
       "    </tr>\n",
       "    <tr>\n",
       "      <th id=\"T_dfdfd_level0_row16\" class=\"row_heading level0 row16\" >40016</th>\n",
       "      <td id=\"T_dfdfd_row16_col0\" class=\"data row16 col0\" >have alreadi seen the origin jack frost i never thought that jack frost 2 would be as absurd as it i...</td>\n",
       "      <td id=\"T_dfdfd_row16_col1\" class=\"data row16 col1\" >negative</td>\n",
       "      <td id=\"T_dfdfd_row16_col2\" class=\"data row16 col2\" >negative</td>\n",
       "      <td id=\"T_dfdfd_row16_col3\" class=\"data row16 col3\" >True</td>\n",
       "    </tr>\n",
       "    <tr>\n",
       "      <th id=\"T_dfdfd_level0_row17\" class=\"row_heading level0 row17\" >40017</th>\n",
       "      <td id=\"T_dfdfd_row17_col0\" class=\"data row17 col0\" >i had been subject to thi movi for a relationship class in my school as figur it wa noth captiv and ...</td>\n",
       "      <td id=\"T_dfdfd_row17_col1\" class=\"data row17 col1\" >negative</td>\n",
       "      <td id=\"T_dfdfd_row17_col2\" class=\"data row17 col2\" >negative</td>\n",
       "      <td id=\"T_dfdfd_row17_col3\" class=\"data row17 col3\" >True</td>\n",
       "    </tr>\n",
       "    <tr>\n",
       "      <th id=\"T_dfdfd_level0_row18\" class=\"row_heading level0 row18\" >40018</th>\n",
       "      <td id=\"T_dfdfd_row18_col0\" class=\"data row18 col0\" >thi movi is stuf full of stock horror movi goodi chain lunat premedit murder a mad vagu lesbian fema...</td>\n",
       "      <td id=\"T_dfdfd_row18_col1\" class=\"data row18 col1\" >positive</td>\n",
       "      <td id=\"T_dfdfd_row18_col2\" class=\"data row18 col2\" >negative</td>\n",
       "      <td id=\"T_dfdfd_row18_col3\" class=\"data row18 col3\" >False</td>\n",
       "    </tr>\n",
       "    <tr>\n",
       "      <th id=\"T_dfdfd_level0_row19\" class=\"row_heading level0 row19\" >40019</th>\n",
       "      <td id=\"T_dfdfd_row19_col0\" class=\"data row19 col0\" >there are time when finish a film one wish to have a refund for the time just spent thi wa one of th...</td>\n",
       "      <td id=\"T_dfdfd_row19_col1\" class=\"data row19 col1\" >negative</td>\n",
       "      <td id=\"T_dfdfd_row19_col2\" class=\"data row19 col2\" >negative</td>\n",
       "      <td id=\"T_dfdfd_row19_col3\" class=\"data row19 col3\" >True</td>\n",
       "    </tr>\n",
       "  </tbody>\n",
       "</table>\n"
      ],
      "text/plain": [
       "<pandas.io.formats.style.Styler at 0x23236a22870>"
      ]
     },
     "metadata": {},
     "output_type": "display_data"
    }
   ],
   "source": [
    "#Predict for BoW model\n",
    "Log_R_bow_predict = lr_bow.predict(vector_test_rev)\n",
    "\n",
    "n_examples = 20\n",
    "\n",
    "#label_map = {'positive': 1, 'negative': 0}\n",
    "reverse_label_map = {1: 'positive', 0: 'negative'}\n",
    "\n",
    "results_df = pd.DataFrame({\n",
    "    'Review': X_test.iloc[:n_examples].apply(lambda x: x[:100] + '...'),\n",
    "    #'True Label': Y_test.iloc[:n_examples].map(label_map).values,\n",
    "    'True Label': Y_test.iloc[:n_examples].values,\n",
    "    #'Predicted Label': Log_R_bow_predict[:n_examples] \n",
    "    'Predicted Label': [reverse_label_map[p] for p in Log_R_bow_predict[:n_examples]]\n",
    "})\n",
    "\n",
    "results_df['Correct'] = results_df['True Label'] == results_df['Predicted Label']\n",
    "\n",
    "def color_row(row):\n",
    "    color = 'background-color: #d4edda' if row['Correct'] else 'background-color: #f8d7da'\n",
    "    return [color] * len(row)\n",
    "\n",
    "styled_df = results_df.style.apply(color_row, axis=1)\n",
    "display(styled_df)\n"
   ]
  },
  {
   "cell_type": "markdown",
   "id": "b6427a33-d065-4dd0-84be-ba929f8cfbe6",
   "metadata": {},
   "source": [
    "#### 8.1.4 Logistic Regression : Accuracy & evaluation metrics "
   ]
  },
  {
   "cell_type": "code",
   "execution_count": 40,
   "id": "9d2aa7b1-0d3c-45a5-a7f2-54f214713ccc",
   "metadata": {},
   "outputs": [
    {
     "name": "stdout",
     "output_type": "stream",
     "text": [
      "LR_score_tfidf : 0.7576\n",
      "LR_score_BoW : 0.6688\n"
     ]
    }
   ],
   "source": [
    "# Converts predictions bool ---> str TFIDF\n",
    "Log_R_tfidf_predict_label = ['positive' if pred == 1 else 'negative' for pred in Log_R_tfidf_predict]\n",
    "\n",
    "#Accuracy TFIDF\n",
    "LR_score_tfidf= accuracy_score(Y_test,Log_R_tfidf_predict_label)\n",
    "\n",
    "# Converts predictions bool ---> str BOW\n",
    "Log_R_BoW_predict_label = ['positive' if pred == 1 else 'negative' for pred in Log_R_bow_predict]\n",
    "\n",
    "#Accuracy BoW\n",
    "LR_score_BoW= accuracy_score(Y_test,Log_R_BoW_predict_label)\n",
    "\n",
    "print(\"LR_score_tfidf :\", LR_score_tfidf)\n",
    "print(\"LR_score_BoW :\", LR_score_BoW)\n"
   ]
  },
  {
   "cell_type": "code",
   "execution_count": null,
   "id": "d74ed3ca-abe8-4ff7-be9b-c67d4e106857",
   "metadata": {},
   "outputs": [],
   "source": []
  }
 ],
 "metadata": {
  "kernelspec": {
   "display_name": "Python 3 (ipykernel)",
   "language": "python",
   "name": "python3"
  },
  "language_info": {
   "codemirror_mode": {
    "name": "ipython",
    "version": 3
   },
   "file_extension": ".py",
   "mimetype": "text/x-python",
   "name": "python",
   "nbconvert_exporter": "python",
   "pygments_lexer": "ipython3",
   "version": "3.12.9"
  }
 },
 "nbformat": 4,
 "nbformat_minor": 5
}
