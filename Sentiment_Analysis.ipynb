{
 "cells": [
  {
   "cell_type": "markdown",
   "id": "2294a504-8f65-4af1-8f17-69301bb2ced9",
   "metadata": {},
   "source": [
    "# Sentiment Analysis and Reducing Costs in the Film Industry"
   ]
  },
  {
   "cell_type": "markdown",
   "id": "cc85376a-c83a-49fa-a0e9-2773cabf2631",
   "metadata": {},
   "source": [
    "## 1.Import libraries"
   ]
  },
  {
   "cell_type": "code",
   "execution_count": 8,
   "id": "c4ff0e29-166c-43f4-b61c-c9d2c0028b5b",
   "metadata": {},
   "outputs": [],
   "source": [
    "#Libraries\n",
    "import numpy as np\n",
    "import pandas as pd\n",
    "import seaborn as sns\n",
    "import matplotlib.pyplot as plt\n",
    "import nltk # Natural Language Processing\n",
    "from sklearn.feature_extraction.text import CountVectorizer # Bag of Words\n",
    "from sklearn.feature_extraction.text import TfidfVectorizer # TF-IDF\n",
    "from sklearn.preprocessing import LabelBinarizer\n",
    "from nltk.corpus import stopwords  # List of common words usually ignored in text analysis\n",
    "#from nltk.stem.porter import PorterStemmer  # For stemming using the Porter algorithm\n",
    "from wordcloud import WordCloud, STOPWORDS  # To create word cloud visualizations from text\n",
    "from nltk.stem import WordNetLemmatizer  # For lemmatization\n",
    "from nltk.tokenize import word_tokenize, sent_tokenize  # For word and sentence tokenization\n",
    "from bs4 import BeautifulSoup  # For HTML and XML parsing (web scraping)\n",
    "import spacy  # Fast and efficient NLP library\n",
    "import re, string, unicodedata  # For string manipulation and text normalization\n",
    "from nltk.tokenize.toktok import ToktokTokenizer  # More efficient tokenizer\n",
    "from nltk.stem import LancasterStemmer, WordNetLemmatizer  # Alternatives for stemming and lemmatization\n",
    "from sklearn.linear_model import LogisticRegression, SGDClassifier  # Logistic regression and SGD classifiers for classification\n",
    "from sklearn.naive_bayes import MultinomialNB  # Classification using Naive Bayes\n",
    "from sklearn.svm import SVC  # Support Vector Classifier\n",
    "from textblob import TextBlob  # For text and sentiment analysis\n",
    "from textblob import Word  # For word processing\n",
    "from sklearn.metrics import classification_report, confusion_matrix, accuracy_score  # For model evaluation\n",
    "import time  # For measuring code execution time\n",
    "\n",
    "import warnings\n",
    "warnings.filterwarnings('ignore')  # Ignore warnings\n",
    "\n",
    "# Setting up the visualization style\n",
    "sns.set(style='whitegrid')"
   ]
  },
  {
   "cell_type": "code",
   "execution_count": null,
   "id": "135bf126-63a7-45b0-a4ff-1d690179146c",
   "metadata": {},
   "outputs": [],
   "source": []
  }
 ],
 "metadata": {
  "kernelspec": {
   "display_name": "Python 3 (ipykernel)",
   "language": "python",
   "name": "python3"
  },
  "language_info": {
   "codemirror_mode": {
    "name": "ipython",
    "version": 3
   },
   "file_extension": ".py",
   "mimetype": "text/x-python",
   "name": "python",
   "nbconvert_exporter": "python",
   "pygments_lexer": "ipython3",
   "version": "3.12.9"
  }
 },
 "nbformat": 4,
 "nbformat_minor": 5
}
